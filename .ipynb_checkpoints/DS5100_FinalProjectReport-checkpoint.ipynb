{
 "cells": [
  {
   "cell_type": "markdown",
   "id": "45762487-d33f-486d-8e38-2cdea04e3528",
   "metadata": {},
   "source": [
    "# Final Project Report\n",
    "\n",
    "* Class: DS 5100\n",
    "* Student Name: Hamsini Muralikrishnan\n",
    "* Student Net ID: hm7qgr\n",
    "* This URL: a URL to the notebook source of this document"
   ]
  },
  {
   "cell_type": "markdown",
   "id": "acf756c1-ecaa-41dc-b6ca-d566eb94560b",
   "metadata": {},
   "source": [
    "# Instructions\n",
    "\n",
    "Follow the instructions in the Final Project isntructions notebook and put evidence of your work in this notebook.\n",
    "\n",
    "Total points for each subsection under **Deliverables** and **Scenarios** are given in parentheses.\n",
    "\n",
    "Breakdowns of points within subsections are specified within subsection instructions as bulleted lists.\n",
    "\n",
    "This project is worth **50 points**."
   ]
  },
  {
   "cell_type": "markdown",
   "id": "89dc7a32-f682-4402-8c1e-b6ccdb3e0e39",
   "metadata": {},
   "source": [
    "# Deliverables"
   ]
  },
  {
   "cell_type": "markdown",
   "id": "d32cb273-9a40-4909-a7ce-51f6e4958d3c",
   "metadata": {},
   "source": [
    "## The Monte Carlo Module (10)\n",
    "\n",
    "- URL included, appropriately named (1).\n",
    "- Includes all three specified classes (3).\n",
    "- Includes at least all 12 specified methods (6; .5 each)."
   ]
  },
  {
   "cell_type": "markdown",
   "id": "f5f3b070-de9e-4de9-bfae-8974d184aa28",
   "metadata": {},
   "source": [
    "Put the URL to your GitHub repo here.\n",
    "\n",
    "Repo URL: https://github.com/hamsinimk/Final-Project\n",
    "\n",
    "URL of montecarlo package within Final Project repo: https://github.com/hamsinimk/Final-Project/tree/main/montecarlo"
   ]
  },
  {
   "cell_type": "markdown",
   "id": "162370fb-3729-4c85-b040-8c25b2c966d2",
   "metadata": {},
   "source": [
    "Paste a copy of your module here.\n",
    "\n",
    "NOTE: Paste as text, not as code. Use triple backticks to wrap your code blocks."
   ]
  },
  {
   "cell_type": "markdown",
   "id": "c0fb6458-6a7f-46e0-a0f9-82f3ea441b1b",
   "metadata": {},
   "source": [
    "```python\n",
    "import numpy as np\n",
    "import pandas as pd\n",
    "\n",
    "class DieClass():\n",
    "    \"\"\"\n",
    "    General definition: The DieClass is used to create a die object. This\n",
    "    class will be used to first create a die with any number of sides or\n",
    "    faces and weights of each side default to 1. The user can also change the\n",
    "    weight of any side, one side at a time. Then, the die can be rolled a\n",
    "    specified number of times and the state of the die, which includes the\n",
    "    faces and weights, can be returned.\n",
    "    \n",
    "    \"\"\"\n",
    "    \n",
    "    def __init__(self, faces):\n",
    "        \"\"\"\n",
    "        Purpose: The purpose of the __init__ method is to essentially create\n",
    "        the die object as a pandas dataframe. \n",
    "        \n",
    "        Input Argument(s): faces Faces is an np array that contains the faces\n",
    "        of the die object you are creating. If you pass in 2 face or side\n",
    "        values in the np array, then you will be creating a die of 2 sides,\n",
    "        which is a coin. If you pass in 6 values in the np array, you will be\n",
    "        creating a traditional die to play with later on. The faces array can\n",
    "        contain integers or strings. Once the faces array is passed, a pandas\n",
    "        dataframe is made with default weights of 1 for each side, making\n",
    "        a \"fair\" dice and the index for the dataframe is set to the faces of\n",
    "        the object. Furthermore, the weights in the dataframe are modified to\n",
    "        be proportions so they are less than 1. \n",
    "        \n",
    "        \"\"\"\n",
    "        if not isinstance(faces, np.ndarray):\n",
    "            raise TypeError(\"you have to pass a numpy array!\")\n",
    "        if not all([isinstance(f, (np.int32, np.int64, np.str_, str)) for f in faces]):\n",
    "            raise TypeError(\"you have to pass strings or integers!\")\n",
    "        if len(np.unique(faces)) != len(faces):\n",
    "            raise ValueError(\"array should have distinct values!\")\n",
    "        self._die_df = pd.DataFrame({\n",
    "            'faces': faces, \n",
    "            'weights': np.ones(len(faces), dtype=float)}\n",
    "        ).set_index(['faces'])\n",
    "\n",
    "    \n",
    "    def change_weight(self, face_val, new_weight):\n",
    "        \"\"\"\n",
    "        Purpose: The purpose of the change_weight method is to allow the user\n",
    "        to change the weight of a single face or side of the die as the\n",
    "        default weights are 1 for each side, as mentioned above. The weight\n",
    "        of each side can only be altered one at a time. By doing this, you\n",
    "        can create an \"unfair\" dice. Using the specified face value, which is\n",
    "        the index of the dataframe, the weight is changed to the new\n",
    "        weight. \n",
    "        \n",
    "        Input Arguments: \n",
    "\n",
    "        face_val: The user will pass the face or side that\n",
    "        they want to change the weight for. The method will make sure that\n",
    "        the face value that's passed is already in the die array. \n",
    "\n",
    "        new_weight:\n",
    "        The new weight is specified, which should be a numeric or castable as\n",
    "        a numeric. The method checks if it is a numeric or castable as a\n",
    "        numeric and raises an error if not. \n",
    "        \n",
    "        \"\"\"\n",
    "        if face_val not in self._die_df.index:\n",
    "            raise IndexError(\"this is not a valid face value!\")\n",
    "        if not str(new_weight).isnumeric():\n",
    "            raise TypeError(\"new weight is not numeric\")\n",
    "        self._die_df.loc[face_val, 'weights'] = new_weight\n",
    "        \n",
    "    def roll_die(self, num_rolls=1):\n",
    "        \"\"\"\n",
    "        Purpose: The purpose of the roll_die method is to roll the die based\n",
    "        on the weights of each face. The die is rolled by using random\n",
    "        sampling with replacement based on the weights. The results of the\n",
    "        roll won't be saved, but the method will return a list of the face\n",
    "        values that were rolled. \n",
    "        \n",
    "        Input Arguments: \n",
    "\n",
    "        num_rolls: Any number of rolls can be specified here\n",
    "        to roll the die. The default value for the number the rolls is 1, so\n",
    "        if no value is passed, the die will be rolled once. \n",
    "        \n",
    "        Return Values: roll_die returns a list of the faces that were rolled\n",
    "        depending on the number of rolls specified by the user. The method\n",
    "        uses random sampling with replacement to do so and takes the weights\n",
    "        that were specified by the user previously into account. This list is\n",
    "        not internally saved. \n",
    "        \"\"\"\n",
    "        self._die_df['weights'] = self._die_df['weights']/np.sum(self._die_df['weights'])\n",
    "        return list(np.random.choice(self._die_df.index, num_rolls, replace = True, p = self._die_df['weights']))\n",
    "        \n",
    "    def die_state(self):\n",
    "        \"\"\"\n",
    "        Purpose: The purpose of the die state is just to return the private\n",
    "        die dataframe. Essentially, the user will be able to see the faces of\n",
    "        the die and the associated face values. \n",
    "        \n",
    "        Input Arguments: None\n",
    "        \n",
    "        Return Values: The die_state method will return the private dataframe\n",
    "        containing the faces of the die and the associated weights. \n",
    "        \"\"\"\n",
    "        return self._die_df\n",
    "\n",
    "class GameClass():\n",
    "    \"\"\"\n",
    "    General definition: The GameClass is used to simulate a game in which one\n",
    "    or more similar die are rolled. The die are \"similar\" in that if multiple\n",
    "    die objects are passed, they must have the number of sides and associated\n",
    "    face values. But, if the user chooses to do so, the weight values of the\n",
    "    faces can be different between the die objects. \n",
    "    \"\"\"\n",
    "    def __init__(self, die_obj):\n",
    "        \"\"\"\n",
    "        Purpose: The __init__ method takes a list of already instantiated die object(s).  \n",
    "        \n",
    "        Input Arguments:\n",
    "\n",
    "        die_obj: The die object consists of a list of die that are\n",
    "        instantiated using the previous DieClass. The list can be specified\n",
    "        prior to passing it through GameClass(), for ease, or can be done\n",
    "        simultaneoulsy while passing it through GameClass.\n",
    "        \"\"\"\n",
    "        self.die_obj = die_obj\n",
    "    def play(self,num_rolls):\n",
    "        \"\"\"\n",
    "        Purpose: The play method is used to roll each dice in the die_obj\n",
    "        specified above. Essentially, the method from DieClass (roll_die) is\n",
    "        invoked to roll each die and the results of each roll are saved to a\n",
    "        dataframe that include the number of the roll as the index with each\n",
    "        die number (based on its index in the passed list) as the columns and\n",
    "        the face value that is rolled in each cell. This described layout for\n",
    "        the dataframe follows a wide format. Unlike the roll_die method in\n",
    "        DieClass, the results are saved.\n",
    "        \n",
    "        Input Arguments: \n",
    "\n",
    "        num_rolls: The number of rolls is again specified here to roll each\n",
    "        die a specific number of times using the roll_die method from\n",
    "        DieClass. \n",
    "        \n",
    "        \"\"\"\n",
    "        roll_results = []\n",
    "        for die in self.die_obj:\n",
    "            roll_results.append(die.roll_die(num_rolls))\n",
    "        self._play_df = pd.DataFrame(roll_results).T\n",
    "        self._play_df.columns = [f'Die {i}' for i in range(len(self.die_obj))] \n",
    "        self._play_df['roll number'] = range(1, num_rolls+1)\n",
    "        self._play_df = self._play_df.set_index(['roll number'])\n",
    "    def recent_play(self,format_play='wide'):\n",
    "        \"\"\"\n",
    "        Purpose: The purpose of the recent_play method is to return the\n",
    "        results of the game to the user based on the format that they\n",
    "        specify. The two options for the returned dataframe are wide or\n",
    "        narrow. \n",
    "        \n",
    "        Input Arguments:\n",
    "\n",
    "        format_play: The format of the returned dataframe can be either wide\n",
    "        or narrow. As defined above in the play method, the dataframe is\n",
    "        constructed with a wide format, which is the default value for the\n",
    "        argument. The user can specify narrow if they want to change the\n",
    "        format from the default. If an argument other than narrow or wide is\n",
    "        provided, a ValueError is raised and nothing will be returned. \n",
    "        \n",
    "        Return Values: Based on the input argument, a wide or narrow dataframe\n",
    "        containing the die number, roll number and roll result will be\n",
    "        returned to the user. \n",
    "        \n",
    "        \"\"\"\n",
    "        if format_play == 'narrow':\n",
    "            play_df_reset = self._play_df.reset_index()\n",
    "            narrow_df = pd.melt(play_df_reset, id_vars = 'roll number', value_vars = self._play_df.columns,\n",
    "                               var_name = 'Die', value_name = 'roll result')\n",
    "            narrow_df = narrow_df.set_index(['roll number', 'Die'])\n",
    "            return narrow_df\n",
    "        elif format_play == 'wide':\n",
    "            return self._play_df\n",
    "        else:\n",
    "            raise ValueError('the only table format options are either wide (default) or narrow!')                                                        \n",
    "class AnalyzeClass():\n",
    "    \"\"\"\n",
    "    Purpose: The Analyze Class takes the results of a game (game object) and\n",
    "    analyzes it for different statistical properties. \n",
    "    \"\"\"\n",
    "    def __init__(self, game_obj):\n",
    "        \"\"\"\n",
    "        Purpose: The purpose of the __init__ method is to just take the game\n",
    "        object as an input parameter to use in the AnalyzeClass.\n",
    "        \n",
    "        Input Arguments:\n",
    "\n",
    "        game_obj: This is the game object made from the previous Game Class.\n",
    "        The play method should be used prior to passing the game object and\n",
    "        its results are passed through the Analyze Class. If the game that is\n",
    "        passed is not an Game object, then a ValueError is raised. \n",
    "        \"\"\"\n",
    "        if not isinstance(game_obj, GameClass):\n",
    "            raise ValueError('Passed value is not a Game object!')\n",
    "        self.game_obj = game_obj\n",
    "        self.play_df = self.game_obj._play_df\n",
    "    def check_jackpot(self):\n",
    "        \"\"\"\n",
    "        Purpose: The jackpot method checks/ calculates how many times a game\n",
    "        resulted in a jackpot (when all sides of the die that are rolled are\n",
    "        the same). \n",
    "        \n",
    "        Input Arguments:\n",
    "        None\n",
    "        \n",
    "        Return Values: \n",
    "        This method returns the number of times a game in the\n",
    "        game object resulted in a jackpot. This is returned as an integer. If\n",
    "        none of the games result in a jackpot, the method returns that there\n",
    "        are no jackpots. \n",
    "        \n",
    "        \"\"\"\n",
    "        num_jackpot = 0\n",
    "        for _, row in self.play_df.iterrows():\n",
    "            if (row==row[0]).all():\n",
    "                num_jackpot+=1\n",
    "        if num_jackpot == 0:\n",
    "            print('No jackpots this game!')\n",
    "        return num_jackpot\n",
    "\n",
    "    def face_counts(self):\n",
    "        \"\"\"\n",
    "        Purpose: \n",
    "        The face_counts method returns the number of times each face\n",
    "        of the die is rolled for each game/event in the game object. \n",
    "        \n",
    "        Input Arguments:\n",
    "        None\n",
    "        \n",
    "        Return Values:\n",
    "        \n",
    "        The face_counts method returns a dataframe that includes the counts of\n",
    "        each face for each event/game in the game object. The roll number is\n",
    "        the index, while the columns are the face values of the die with each\n",
    "        cell containing the value count for that face in that game/event.\n",
    "        This format for the returned dataframe follows a wide format. \n",
    "        \"\"\"\n",
    "        face_count_df = self.play_df.apply(lambda row: row.value_counts(), axis=1)\n",
    "        face_count_df = face_count_df.fillna(0).astype(int)\n",
    "        return face_count_df\n",
    "    \n",
    "    def combo_count(self):\n",
    "        \"\"\"\n",
    "        Purpose: The combo_count method calculates the distinct combinations\n",
    "        of faces rolled in the game object.\n",
    "        \n",
    "        Input Arguments: \n",
    "        None\n",
    "        \n",
    "        Return Values: The combo_count method returns a dataframe with the\n",
    "        distinct combinations along with their counts. This dataframe has a\n",
    "        MultiIndex of the distinct combinations and a column of the\n",
    "        associated counts for these disinct combinations. In this case, order\n",
    "        does not matter. \n",
    "        \"\"\"\n",
    "        combo_count_df = self.play_df.apply(lambda row: tuple(np.sort(row)), axis = 1).value_counts().to_frame('n')\n",
    "        combo_count_df.index = pd.MultiIndex.from_tuples(combo_count_df.index)\n",
    "        return combo_count_df\n",
    "\n",
    "    def perm_count(self):\n",
    "        \"\"\"\n",
    "        Purpose: The perm_count method calculates the distinct permutations of\n",
    "        faces rolled in the game object.\n",
    "        \n",
    "        Input Arguments: \n",
    "        None\n",
    "        \n",
    "        Return Values: The perm_count method returns a dataframe with the\n",
    "        distinct permutations along with their counts. This dataframe has a\n",
    "        MultiIndex of the distinct permutations and a column of the\n",
    "        associated counts for these disinct permutations. In this case, order\n",
    "        does matter. \n",
    "        \"\"\"\n",
    "        perm_count_df = self.play_df.apply(lambda row: tuple(row), axis = 1).value_counts().to_frame('n')\n",
    "        perm_count_df.index = pd.MultiIndex.from_tuples(perm_count_df.index)\n",
    "        return perm_count_df\n",
    "```"
   ]
  },
  {
   "cell_type": "markdown",
   "id": "6377727a-8f0a-491e-9f1c-d9dc225edd35",
   "metadata": {},
   "source": [
    "## Unitest Module (2)\n",
    "\n",
    "Paste a copy of your test module below.\n",
    "\n",
    "NOTE: Paste as text, not as code. Use triple backticks to wrap your code blocks.\n",
    "\n",
    "- All methods have at least one test method (1).\n",
    "- Each method employs one of Unittest's Assert methods (1)."
   ]
  },
  {
   "cell_type": "markdown",
   "id": "881b9bf1-89c4-4fa8-b7b4-10d5691aeaae",
   "metadata": {},
   "source": [
    "```python\n",
    "from montecarlo import DieClass\n",
    "from montecarlo import GameClass\n",
    "from montecarlo import AnalyzeClass\n",
    "import unittest\n",
    "import numpy as np\n",
    "import pandas as pd\n",
    "\n",
    "\n",
    "class DieGameAnalyzeTestSuite(unittest.TestCase):\n",
    "    def test_01_init(self):\n",
    "        mydie = DieClass(np.array([1,2,3,4,5,6]))\n",
    "        self.assertTrue(isinstance(mydie, DieClass))\n",
    "    \n",
    "    def test_02_change_weight(self):\n",
    "        mydie = DieClass(np.array([1,2,3,4,5,6]))\n",
    "        mydie.change_weight(1, 2)\n",
    "        weight_val1 = 2\n",
    "        self.assertTrue(weight_val1 in mydie._die_df['weights'].values)\n",
    "        self.assertTrue(isinstance(mydie._die_df, pd.DataFrame))\n",
    "    \n",
    "    def test_03_roll_dice(self):\n",
    "        mydie = DieClass(np.array([1,2,3,4,5,6]))\n",
    "        die1 = mydie.roll_die(5)\n",
    "        actual = len(die1)\n",
    "        expected = 5\n",
    "        self.assertEqual(actual,expected)\n",
    "        self.assertTrue(isinstance((die1), list))\n",
    "    \n",
    "    def test_04_die_state(self):\n",
    "        mydie = DieClass(np.array([1,2,3,4,5,6]))\n",
    "        self.assertTrue(isinstance(mydie.die_state(), pd.DataFrame))\n",
    "    \n",
    "    def test_05_init(self):\n",
    "        mydie = [DieClass(np.array([1,2,3,4,5,6])), DieClass(np.array([1,2,3,4,5,6]))]\n",
    "        mygame = GameClass(mydie)\n",
    "        self.assertTrue(isinstance(mygame, GameClass))\n",
    "    \n",
    "    def test_06_play(self):\n",
    "        mydie = [DieClass(np.array([1,2,3,4,5,6])), DieClass(np.array([1,2,3,4,5,6]))]\n",
    "        mygame = GameClass(mydie)\n",
    "        mygame.play(10)\n",
    "        self.assertTrue(isinstance(mygame._play_df, pd.DataFrame))\n",
    "    \n",
    "    def test_07_recent_play(self):\n",
    "        mydie = [DieClass(np.array([1,2,3,4,5,6])), DieClass(np.array([1,2,3,4,5,6]))]\n",
    "        mygame = GameClass(mydie)\n",
    "        mygame.play(10)\n",
    "        self.assertTrue(isinstance(mygame.recent_play('narrow').index, pd.MultiIndex))\n",
    "        self.assertFalse(isinstance(mygame.recent_play().index, pd.MultiIndex))\n",
    "    \n",
    "    def test_08_init(self):\n",
    "        mydie = [DieClass(np.array([1,2,3,4,5,6])), DieClass(np.array([1,2,3,4,5,6]))]\n",
    "        mygame = GameClass(mydie)\n",
    "        mygame.play(10)\n",
    "        myanalyze = AnalyzeClass(mygame)\n",
    "        self.assertTrue(isinstance(myanalyze, AnalyzeClass))\n",
    "    \n",
    "    def test_09_jackpot(self):\n",
    "        mydie = [DieClass(np.array([1])), DieClass(np.array([1]))]\n",
    "        mygame = GameClass(mydie)\n",
    "        mygame.play(10)\n",
    "        myanalyze = AnalyzeClass(mygame)\n",
    "        expected = 10\n",
    "        actual = myanalyze.check_jackpot()\n",
    "        self.assertTrue(isinstance(actual, int))\n",
    "        self.assertEqual(actual,expected)\n",
    "    \n",
    "    def test_10_face_counts(self):\n",
    "        mydie = [DieClass(np.array([1,2,3,4,5,6])), DieClass(np.array([1,2,3,4,5,6]))]\n",
    "        mygame = GameClass(mydie)\n",
    "        mygame.play(10)\n",
    "        myanalyze = AnalyzeClass(mygame)\n",
    "        self.assertFalse(isinstance(myanalyze.face_counts().index, pd.MultiIndex))\n",
    "    \n",
    "    def test_11_combo_count(self):\n",
    "        mydie = [DieClass(np.array([1,2,3,4,5,6])), DieClass(np.array([1,2,3,4,5,6]))]\n",
    "        mygame = GameClass(mydie)\n",
    "        mygame.play(10)\n",
    "        myanalyze = AnalyzeClass(mygame)\n",
    "        self.assertTrue(isinstance(myanalyze.combo_count().index, pd.MultiIndex))\n",
    "    \n",
    "    def test_12_perm_count(self):\n",
    "        mydie = [DieClass(np.array([1,2,3,4,5,6])), DieClass(np.array([1,2,3,4,5,6]))]\n",
    "        mygame = GameClass(mydie)\n",
    "        mygame.play(10)\n",
    "        myanalyze = AnalyzeClass(mygame)\n",
    "        self.assertTrue(isinstance(myanalyze.perm_count().index, pd.MultiIndex))\n",
    "        \n",
    "if __name__ == '__main__':\n",
    "    unittest.main(verbosity=3)\n",
    "```"
   ]
  },
  {
   "cell_type": "markdown",
   "id": "3e058d03-29bc-408f-b36d-0605b4f4b8c0",
   "metadata": {
    "tags": []
   },
   "source": [
    "## Unittest Results (3)\n",
    "\n",
    "Put a copy of the results of running your tests from the command line here.\n",
    "\n",
    "Again, paste as text using triple backticks.\n",
    "\n",
    "- All 12 specified methods return OK (3; .25 each)."
   ]
  },
  {
   "cell_type": "markdown",
   "id": "948434a9-93e3-43db-bfb5-e8faf00b2d9e",
   "metadata": {
    "tags": []
   },
   "source": [
    "```\n",
    "test_01_init (__main__.DieGameAnalyzeTestSuite.test_01_init) ... ok\n",
    "test_02_change_weight (__main__.DieGameAnalyzeTestSuite.test_02_change_weight) ... ok\n",
    "test_03_roll_dice (__main__.DieGameAnalyzeTestSuite.test_03_roll_dice) ... ok\n",
    "test_04_die_state (__main__.DieGameAnalyzeTestSuite.test_04_die_state) ... ok\n",
    "test_05_init (__main__.DieGameAnalyzeTestSuite.test_05_init) ... ok\n",
    "test_06_play (__main__.DieGameAnalyzeTestSuite.test_06_play) ... ok\n",
    "test_07_recent_play (__main__.DieGameAnalyzeTestSuite.test_07_recent_play) ... ok\n",
    "test_08_init (__main__.DieGameAnalyzeTestSuite.test_08_init) ... ok\n",
    "test_09_jackpot (__main__.DieGameAnalyzeTestSuite.test_09_jackpot) ... ok\n",
    "test_10_face_counts (__main__.DieGameAnalyzeTestSuite.test_10_face_counts) ... ok\n",
    "test_11_combo_count (__main__.DieGameAnalyzeTestSuite.test_11_combo_count) ... ok\n",
    "test_12_perm_count (__main__.DieGameAnalyzeTestSuite.test_12_perm_count) ... ok\n",
    "\n",
    "----------------------------------------------------------------------\n",
    "Ran 12 tests in 0.029s\n",
    "\n",
    "OK\n",
    "```"
   ]
  },
  {
   "cell_type": "markdown",
   "id": "d9ffe8c5-eb2f-4ad1-af76-a46550e4c7ac",
   "metadata": {},
   "source": [
    "## Import (1)\n",
    "\n",
    "Import your module here. This import should refer to the code in your package directory.\n",
    "\n",
    "- Module successuflly imported (1)."
   ]
  },
  {
   "cell_type": "code",
   "execution_count": 1,
   "id": "a05dffb3-e6d6-4f78-9df4-5abd0cf74ca9",
   "metadata": {
    "tags": []
   },
   "outputs": [],
   "source": [
    "import montecarlo"
   ]
  },
  {
   "cell_type": "markdown",
   "id": "f30c4842-65b1-4556-98b6-3fe1a07e1371",
   "metadata": {},
   "source": [
    "## Help Docs (4)\n",
    "\n",
    "Show your docstring documentation by applying `help()` to your imported module.\n",
    "\n",
    "- All methods have a docstring (3; .25 each).\n",
    "- All classes have a docstring (1; .33 each)."
   ]
  },
  {
   "cell_type": "code",
   "execution_count": 2,
   "id": "bf4fbf1f-9885-471c-a0a6-e9ca90e160de",
   "metadata": {
    "tags": []
   },
   "outputs": [
    {
     "name": "stdout",
     "output_type": "stream",
     "text": [
      "Help on module montecarlo.montecarlo in montecarlo:\n",
      "\n",
      "NAME\n",
      "    montecarlo.montecarlo\n",
      "\n",
      "CLASSES\n",
      "    builtins.object\n",
      "        AnalyzeClass\n",
      "        DieClass\n",
      "        GameClass\n",
      "    \n",
      "    class AnalyzeClass(builtins.object)\n",
      "     |  AnalyzeClass(game_obj)\n",
      "     |  \n",
      "     |  Purpose: The Analyze Class takes the results of a game (game object) and\n",
      "     |  analyzes it for different statistical properties.\n",
      "     |  \n",
      "     |  Methods defined here:\n",
      "     |  \n",
      "     |  __init__(self, game_obj)\n",
      "     |      Purpose: The purpose of the __init__ method is to just take the game\n",
      "     |      object as an input parameter to use in the AnalyzeClass.\n",
      "     |      \n",
      "     |      Input Arguments:\n",
      "     |      \n",
      "     |      game_obj: This is the game object made from the previous Game Class.\n",
      "     |      The play method should be used prior to passing the game object and\n",
      "     |      its results are passed through the Analyze Class. If the game that is\n",
      "     |      passed is not an Game object, then a ValueError is raised.\n",
      "     |  \n",
      "     |  check_jackpot(self)\n",
      "     |      Purpose: The jackpot method checks/ calculates how many times a game\n",
      "     |      resulted in a jackpot (when all sides of the die that are rolled are\n",
      "     |      the same). \n",
      "     |      \n",
      "     |      Input Arguments:\n",
      "     |      None\n",
      "     |      \n",
      "     |      Return Values: \n",
      "     |      This method returns the number of times a game in the\n",
      "     |      game object resulted in a jackpot. This is returned as an integer. If\n",
      "     |      none of the games result in a jackpot, the method returns that there\n",
      "     |      are no jackpots.\n",
      "     |  \n",
      "     |  combo_count(self)\n",
      "     |      Purpose: The combo_count method calculates the distinct combinations\n",
      "     |      of faces rolled in the game object.\n",
      "     |      \n",
      "     |      Input Arguments: \n",
      "     |      None\n",
      "     |      \n",
      "     |      Return Values: The combo_count method returns a dataframe with the\n",
      "     |      distinct combinations along with their counts. This dataframe has a\n",
      "     |      MultiIndex of the distinct combinations and a column of the\n",
      "     |      associated counts for these disinct combinations. In this case, order\n",
      "     |      does not matter.\n",
      "     |  \n",
      "     |  face_counts(self)\n",
      "     |      Purpose: \n",
      "     |      The face_counts method returns the number of times each face\n",
      "     |      of the die is rolled for each game/event in the game object. \n",
      "     |      \n",
      "     |      Input Arguments:\n",
      "     |      None\n",
      "     |      \n",
      "     |      Return Values:\n",
      "     |      \n",
      "     |      The face_counts method returns a dataframe that includes the counts of\n",
      "     |      each face for each event/game in the game object. The roll number is\n",
      "     |      the index, while the columns are the face values of the die with each\n",
      "     |      cell containing the value count for that face in that game/event.\n",
      "     |      This format for the returned dataframe follows a wide format.\n",
      "     |  \n",
      "     |  perm_count(self)\n",
      "     |      Purpose: The perm_count method calculates the distinct permutations of\n",
      "     |      faces rolled in the game object.\n",
      "     |      \n",
      "     |      Input Arguments: \n",
      "     |      None\n",
      "     |      \n",
      "     |      Return Values: The perm_count method returns a dataframe with the\n",
      "     |      distinct permutations along with their counts. This dataframe has a\n",
      "     |      MultiIndex of the distinct permutations and a column of the\n",
      "     |      associated counts for these disinct permutations. In this case, order\n",
      "     |      does matter.\n",
      "     |  \n",
      "     |  ----------------------------------------------------------------------\n",
      "     |  Data descriptors defined here:\n",
      "     |  \n",
      "     |  __dict__\n",
      "     |      dictionary for instance variables (if defined)\n",
      "     |  \n",
      "     |  __weakref__\n",
      "     |      list of weak references to the object (if defined)\n",
      "    \n",
      "    class DieClass(builtins.object)\n",
      "     |  DieClass(faces)\n",
      "     |  \n",
      "     |  General definition: The DieClass is used to create a die object. This\n",
      "     |  class will be used to first create a die with any number of sides or\n",
      "     |  faces and weights of each side default to 1. The user can also change the\n",
      "     |  weight of any side, one side at a time. Then, the die can be rolled a\n",
      "     |  specified number of times and the state of the die, which includes the\n",
      "     |  faces and weights, can be returned.\n",
      "     |  \n",
      "     |  Methods defined here:\n",
      "     |  \n",
      "     |  __init__(self, faces)\n",
      "     |      Purpose: The purpose of the __init__ method is to essentially create\n",
      "     |      the die object as a pandas dataframe. \n",
      "     |      \n",
      "     |      Input Argument(s): faces Faces is an np array that contains the faces\n",
      "     |      of the die object you are creating. If you pass in 2 face or side\n",
      "     |      values in the np array, then you will be creating a die of 2 sides,\n",
      "     |      which is a coin. If you pass in 6 values in the np array, you will be\n",
      "     |      creating a traditional die to play with later on. The faces array can\n",
      "     |      contain integers or strings. Once the faces array is passed, a pandas\n",
      "     |      dataframe is made with default weights of 1 for each side, making\n",
      "     |      a \"fair\" dice and the index for the dataframe is set to the faces of\n",
      "     |      the object. Furthermore, the weights in the dataframe are modified to\n",
      "     |      be proportions so they are less than 1.\n",
      "     |  \n",
      "     |  change_weight(self, face_val, new_weight)\n",
      "     |      Purpose: The purpose of the change_weight method is to allow the user\n",
      "     |      to change the weight of a single face or side of the die as the\n",
      "     |      default weights are 1 for each side, as mentioned above. The weight\n",
      "     |      of each side can only be altered one at a time. By doing this, you\n",
      "     |      can create an \"unfair\" dice. Using the specified face value, which is\n",
      "     |      the index of the dataframe, the weight is changed to the new\n",
      "     |      weight. \n",
      "     |      \n",
      "     |      Input Arguments: \n",
      "     |      \n",
      "     |      face_val: The user will pass the face or side that\n",
      "     |      they want to change the weight for. The method will make sure that\n",
      "     |      the face value that's passed is already in the die array. \n",
      "     |      \n",
      "     |      new_weight:\n",
      "     |      The new weight is specified, which should be a numeric or castable as\n",
      "     |      a numeric. The method checks if it is a numeric or castable as a\n",
      "     |      numeric and raises an error if not.\n",
      "     |  \n",
      "     |  die_state(self)\n",
      "     |      Purpose: The purpose of the die state is just to return the private\n",
      "     |      die dataframe. Essentially, the user will be able to see the faces of\n",
      "     |      the die and the associated face values. \n",
      "     |      \n",
      "     |      Input Arguments: None\n",
      "     |      \n",
      "     |      Return Values: The die_state method will return the private dataframe\n",
      "     |      containing the faces of the die and the associated weights.\n",
      "     |  \n",
      "     |  roll_die(self, num_rolls=1)\n",
      "     |      Purpose: The purpose of the roll_die method is to roll the die based\n",
      "     |      on the weights of each face. The die is rolled by using random\n",
      "     |      sampling with replacement based on the weights. The results of the\n",
      "     |      roll won't be saved, but the method will return a list of the face\n",
      "     |      values that were rolled. \n",
      "     |      \n",
      "     |      Input Arguments: \n",
      "     |      \n",
      "     |      num_rolls: Any number of rolls can be specified here\n",
      "     |      to roll the die. The default value for the number the rolls is 1, so\n",
      "     |      if no value is passed, the die will be rolled once. \n",
      "     |      \n",
      "     |      Return Values: roll_die returns a list of the faces that were rolled\n",
      "     |      depending on the number of rolls specified by the user. The method\n",
      "     |      uses random sampling with replacement to do so and takes the weights\n",
      "     |      that were specified by the user previously into account. This list is\n",
      "     |      not internally saved.\n",
      "     |  \n",
      "     |  ----------------------------------------------------------------------\n",
      "     |  Data descriptors defined here:\n",
      "     |  \n",
      "     |  __dict__\n",
      "     |      dictionary for instance variables (if defined)\n",
      "     |  \n",
      "     |  __weakref__\n",
      "     |      list of weak references to the object (if defined)\n",
      "    \n",
      "    class GameClass(builtins.object)\n",
      "     |  GameClass(die_obj)\n",
      "     |  \n",
      "     |  General definition: The GameClass is used to simulate a game in which one\n",
      "     |  or more similar die are rolled. The die are \"similar\" in that if multiple\n",
      "     |  die objects are passed, they must have the number of sides and associated\n",
      "     |  face values. But, if the user chooses to do so, the weight values of the\n",
      "     |  faces can be different between the die objects.\n",
      "     |  \n",
      "     |  Methods defined here:\n",
      "     |  \n",
      "     |  __init__(self, die_obj)\n",
      "     |      Purpose: The __init__ method takes a list of already instantiated die object(s).  \n",
      "     |      \n",
      "     |      Input Arguments:\n",
      "     |      \n",
      "     |      die_obj: The die object consists of a list of die that are\n",
      "     |      instantiated using the previous DieClass. The list can be specified\n",
      "     |      prior to passing it through GameClass(), for ease, or can be done\n",
      "     |      simultaneoulsy while passing it through GameClass.\n",
      "     |  \n",
      "     |  play(self, num_rolls)\n",
      "     |      Purpose: The play method is used to roll each dice in the die_obj\n",
      "     |      specified above. Essentially, the method from DieClass (roll_die) is\n",
      "     |      invoked to roll each die and the results of each roll are saved to a\n",
      "     |      dataframe that include the number of the roll as the index with each\n",
      "     |      die number (based on its index in the passed list) as the columns and\n",
      "     |      the face value that is rolled in each cell. This described layout for\n",
      "     |      the dataframe follows a wide format. Unlike the roll_die method in\n",
      "     |      DieClass, the results are saved.\n",
      "     |      \n",
      "     |      Input Arguments: \n",
      "     |      \n",
      "     |      num_rolls: The number of rolls is again specified here to roll each\n",
      "     |      die a specific number of times using the roll_die method from\n",
      "     |      DieClass.\n",
      "     |  \n",
      "     |  recent_play(self, format_play='wide')\n",
      "     |      Purpose: The purpose of the recent_play method is to return the\n",
      "     |      results of the game to the user based on the format that they\n",
      "     |      specify. The two options for the returned dataframe are wide or\n",
      "     |      narrow. \n",
      "     |      \n",
      "     |      Input Arguments:\n",
      "     |      \n",
      "     |      format_play: The format of the returned dataframe can be either wide\n",
      "     |      or narrow. As defined above in the play method, the dataframe is\n",
      "     |      constructed with a wide format, which is the default value for the\n",
      "     |      argument. The user can specify narrow if they want to change the\n",
      "     |      format from the default. If an argument other than narrow or wide is\n",
      "     |      provided, a ValueError is raised and nothing will be returned. \n",
      "     |      \n",
      "     |      Return Values: Based on the input argument, a wide or narrow dataframe\n",
      "     |      containing the die number, roll number and roll result will be\n",
      "     |      returned to the user.\n",
      "     |  \n",
      "     |  ----------------------------------------------------------------------\n",
      "     |  Data descriptors defined here:\n",
      "     |  \n",
      "     |  __dict__\n",
      "     |      dictionary for instance variables (if defined)\n",
      "     |  \n",
      "     |  __weakref__\n",
      "     |      list of weak references to the object (if defined)\n",
      "\n",
      "FILE\n",
      "    /sfs/gpfs/tardis/home/hm7qgr/Documents/MSDS/DS5100/Final Project/montecarlo/montecarlo.py\n",
      "\n",
      "\n"
     ]
    }
   ],
   "source": [
    "help(montecarlo.montecarlo)"
   ]
  },
  {
   "cell_type": "markdown",
   "id": "a9defa84-b395-4966-bd1c-5c6c2bb7ed68",
   "metadata": {},
   "source": [
    "## `README.md` File (3)\n",
    "\n",
    "Provide link to the README.md file of your project's repo.\n",
    "\n",
    "- Metadata section or info present (1).\n",
    "- Synopsis section showing how each class is called (1). (All must be included.)\n",
    "- API section listing all classes and methods (1). (All must be included.)"
   ]
  },
  {
   "cell_type": "markdown",
   "id": "ee090b33-d593-48a0-bf35-e739cea0942c",
   "metadata": {},
   "source": [
    "URL:"
   ]
  },
  {
   "cell_type": "markdown",
   "id": "108604c8-8827-42ef-ab59-6b25428fc0ca",
   "metadata": {},
   "source": [
    "## Successful installation (2)\n",
    "\n",
    "Put a screenshot or paste a copy of a terminal session where you successfully install your module with pip.\n",
    "\n",
    "If pasting text, use a preformatted text block to show the results.\n",
    "\n",
    "- Installed with `pip` (1).\n",
    "- Successfully installed message appears (1)."
   ]
  },
  {
   "cell_type": "code",
   "execution_count": 3,
   "id": "77acf936-a8c7-49bf-aa3b-f73df3175dca",
   "metadata": {
    "tags": []
   },
   "outputs": [],
   "source": [
    "#!pip install -e ."
   ]
  },
  {
   "cell_type": "markdown",
   "id": "397b8038-c34d-43df-8805-7b2ff92cfccc",
   "metadata": {},
   "source": [
    "```\n",
    "Defaulting to user installation because normal site-packages is not writeable\n",
    "Obtaining file:///sfs/gpfs/tardis/home/hm7qgr/Documents/MSDS/DS5100/Final%20Project\n",
    "  Preparing metadata (setup.py) ... done\n",
    "Installing collected packages: MonteCarlo\n",
    "  Attempting uninstall: MonteCarlo\n",
    "    Found existing installation: MonteCarlo 0.1\n",
    "    Uninstalling MonteCarlo-0.1:\n",
    "      Successfully uninstalled MonteCarlo-0.1\n",
    "  Running setup.py develop for MonteCarlo\n",
    "Successfully installed MonteCarlo-0.1\n",
    "```"
   ]
  },
  {
   "cell_type": "markdown",
   "id": "7c44695d-d1b3-4edf-9f94-e64d7446f199",
   "metadata": {},
   "source": [
    "# Scenarios\n",
    "\n",
    "Use code blocks to perform the tasks for each scenario.\n",
    "\n",
    "Be sure the outputs are visible before submitting."
   ]
  },
  {
   "cell_type": "markdown",
   "id": "e2479eae-6fc9-44cd-b8d7-9b22cb501f2a",
   "metadata": {
    "tags": []
   },
   "source": [
    "## Scenario 1: A 2-headed Coin (9)\n",
    "\n",
    "Task 1. Create a fair coin (with faces $H$ and $T$) and one unfair coin in which one of the faces has a weight of $5$ and the others $1$.\n",
    "\n",
    "- Fair coin created (1).\n",
    "- Unfair coin created with weight as specified (1)."
   ]
  },
  {
   "cell_type": "code",
   "execution_count": 4,
   "id": "55ce498e-c75f-4425-9e3e-b635bd6cd9e1",
   "metadata": {},
   "outputs": [],
   "source": [
    "import numpy as np\n",
    "import pandas as pd\n",
    "fair_coin = montecarlo.DieClass(np.array(['H', 'T']))\n",
    "unfair_coin = montecarlo.DieClass(np.array(['H', 'T']))\n",
    "unfair_coin.change_weight('H',5)"
   ]
  },
  {
   "cell_type": "code",
   "execution_count": 5,
   "id": "317d69b4-bdaa-47be-8371-c23866da5ad6",
   "metadata": {
    "tags": []
   },
   "outputs": [
    {
     "data": {
      "text/html": [
       "<div>\n",
       "<style scoped>\n",
       "    .dataframe tbody tr th:only-of-type {\n",
       "        vertical-align: middle;\n",
       "    }\n",
       "\n",
       "    .dataframe tbody tr th {\n",
       "        vertical-align: top;\n",
       "    }\n",
       "\n",
       "    .dataframe thead th {\n",
       "        text-align: right;\n",
       "    }\n",
       "</style>\n",
       "<table border=\"1\" class=\"dataframe\">\n",
       "  <thead>\n",
       "    <tr style=\"text-align: right;\">\n",
       "      <th></th>\n",
       "      <th>weights</th>\n",
       "    </tr>\n",
       "    <tr>\n",
       "      <th>faces</th>\n",
       "      <th></th>\n",
       "    </tr>\n",
       "  </thead>\n",
       "  <tbody>\n",
       "    <tr>\n",
       "      <th>H</th>\n",
       "      <td>5.0</td>\n",
       "    </tr>\n",
       "    <tr>\n",
       "      <th>T</th>\n",
       "      <td>1.0</td>\n",
       "    </tr>\n",
       "  </tbody>\n",
       "</table>\n",
       "</div>"
      ],
      "text/plain": [
       "       weights\n",
       "faces         \n",
       "H          5.0\n",
       "T          1.0"
      ]
     },
     "execution_count": 5,
     "metadata": {},
     "output_type": "execute_result"
    }
   ],
   "source": [
    "unfair_coin._die_df"
   ]
  },
  {
   "cell_type": "markdown",
   "id": "02b272ab-99da-4b6e-ac2a-555b73e09c07",
   "metadata": {},
   "source": [
    "Task 2. Play a game of $1000$ flips with two fair dice.\n",
    "\n",
    "- Play method called correclty and without error (1)."
   ]
  },
  {
   "cell_type": "code",
   "execution_count": 6,
   "id": "65c92601-d32d-4326-b215-74953aee27f2",
   "metadata": {},
   "outputs": [],
   "source": [
    "game_coin1 = montecarlo.GameClass([fair_coin, fair_coin])\n",
    "game_coin1.play(1000)\n",
    "#game_coin1._play_df"
   ]
  },
  {
   "cell_type": "markdown",
   "id": "7d9c3dc8-22c1-4cae-81fb-d68d774a05d1",
   "metadata": {},
   "source": [
    "Task 3. Play another game (using a new Game object) of $1000$ flips, this time using two unfair dice and one fair die. For the second unfair die, you can use the same die object twice in the list of dice you pass to the Game object.\n",
    "\n",
    "- New game object created (1).\n",
    "- Play method called correclty and without error (1)."
   ]
  },
  {
   "cell_type": "code",
   "execution_count": 7,
   "id": "d4098bed-1eb2-4084-8d5e-9fda07c3be43",
   "metadata": {},
   "outputs": [],
   "source": [
    "game_coin2 = montecarlo.GameClass([fair_coin, unfair_coin, unfair_coin])\n",
    "game_coin2.play(1000)\n",
    "#game_coin2._play_df"
   ]
  },
  {
   "cell_type": "markdown",
   "id": "f690ebfc-fe71-4eb2-976d-7ac80ca6c23f",
   "metadata": {},
   "source": [
    "Task 4. For each game, use an Analyzer object to determine the raw frequency of jackpots — i.e. getting either all $H$s or all $T$s.\n",
    "\n",
    "- Analyzer objecs instantiated for both games (1).\n",
    "- Raw frequencies reported for both (1)."
   ]
  },
  {
   "cell_type": "code",
   "execution_count": 8,
   "id": "b26b8b7e-3be7-4476-a9a4-37d97536729e",
   "metadata": {},
   "outputs": [
    {
     "name": "stdout",
     "output_type": "stream",
     "text": [
      "487\n",
      "380\n"
     ]
    }
   ],
   "source": [
    "analyzer1 = montecarlo.AnalyzeClass(game_coin1)\n",
    "analyzer2 = montecarlo.AnalyzeClass(game_coin2)\n",
    "print(analyzer1.check_jackpot())\n",
    "print(analyzer2.check_jackpot())"
   ]
  },
  {
   "cell_type": "markdown",
   "id": "b73d233c-445e-40cd-8858-0c5e1f097105",
   "metadata": {},
   "source": [
    "Task 5. For each analyzer, compute relative frequency as the number of jackpots over the total number of rolls.\n",
    "\n",
    "- Both relative frequencies computed (1)."
   ]
  },
  {
   "cell_type": "code",
   "execution_count": 9,
   "id": "9a96b31b-1b9d-496e-be3e-4bf83c45ec3a",
   "metadata": {},
   "outputs": [],
   "source": [
    "analyzer1_rel_freq = analyzer1.check_jackpot()/1000\n",
    "analyzer2_rel_freq = analyzer2.check_jackpot()/1000"
   ]
  },
  {
   "cell_type": "markdown",
   "id": "a6e1e734-7f5c-4721-8ba4-2f3a424cf984",
   "metadata": {},
   "source": [
    "Task 6. Show your results, comparing the two relative frequencies, in a simple bar chart.\n",
    "\n",
    "- Bar chart plotted and correct (1)."
   ]
  },
  {
   "cell_type": "code",
   "execution_count": 10,
   "id": "473fa67c-aa53-4aa3-a0b7-e8772b3f6ed3",
   "metadata": {},
   "outputs": [
    {
     "data": {
      "text/plain": [
       "<BarContainer object of 2 artists>"
      ]
     },
     "execution_count": 10,
     "metadata": {},
     "output_type": "execute_result"
    },
    {
     "data": {
      "image/png": "[encoded data removed]",
      "text/plain": [
       "<Figure size 640x480 with 1 Axes>"
      ]
     },
     "metadata": {},
     "output_type": "display_data"
    }
   ],
   "source": [
    "import matplotlib.pyplot as plt\n",
    "plt.bar([0,1], [analyzer1_rel_freq,analyzer2_rel_freq], tick_label=['fair game', 'unfair game'])"
   ]
  },
  {
   "cell_type": "markdown",
   "id": "725cfa5b-e4b7-47c9-86aa-8d9e1fe6c8c7",
   "metadata": {},
   "source": [
    "## Scenario 2: A 6-sided Die (9)\n",
    "\n",
    "Task 1. Create three dice, each with six sides having the faces 1 through 6.\n",
    "\n",
    "- Three die objects created (1)."
   ]
  },
  {
   "cell_type": "code",
   "execution_count": 11,
   "id": "6a8bc611-325a-4e05-88d5-980e0a2cf7c5",
   "metadata": {},
   "outputs": [],
   "source": [
    "die1 = montecarlo.DieClass(np.array([1, 2, 3, 4, 5, 6]))\n",
    "die2 = montecarlo.DieClass(np.array([1, 2, 3, 4, 5, 6]))\n",
    "die3 = montecarlo.DieClass(np.array([1, 2, 3, 4, 5, 6]))"
   ]
  },
  {
   "cell_type": "markdown",
   "id": "2ed3ad26-fbe9-43bd-9ad7-f683a4191d12",
   "metadata": {},
   "source": [
    "Task 2. Convert one of the dice to an unfair one by weighting the face $6$ five times more than the other weights (i.e. it has weight of 5 and the others a weight of 1 each).\n",
    "\n",
    "- Unfair die created with proper call to weight change method (1)."
   ]
  },
  {
   "cell_type": "code",
   "execution_count": 12,
   "id": "e33dd18f-7f90-456d-a680-61c08a328e21",
   "metadata": {},
   "outputs": [
    {
     "data": {
      "text/html": [
       "<div>\n",
       "<style scoped>\n",
       "    .dataframe tbody tr th:only-of-type {\n",
       "        vertical-align: middle;\n",
       "    }\n",
       "\n",
       "    .dataframe tbody tr th {\n",
       "        vertical-align: top;\n",
       "    }\n",
       "\n",
       "    .dataframe thead th {\n",
       "        text-align: right;\n",
       "    }\n",
       "</style>\n",
       "<table border=\"1\" class=\"dataframe\">\n",
       "  <thead>\n",
       "    <tr style=\"text-align: right;\">\n",
       "      <th></th>\n",
       "      <th>weights</th>\n",
       "    </tr>\n",
       "    <tr>\n",
       "      <th>faces</th>\n",
       "      <th></th>\n",
       "    </tr>\n",
       "  </thead>\n",
       "  <tbody>\n",
       "    <tr>\n",
       "      <th>1</th>\n",
       "      <td>1.0</td>\n",
       "    </tr>\n",
       "    <tr>\n",
       "      <th>2</th>\n",
       "      <td>1.0</td>\n",
       "    </tr>\n",
       "    <tr>\n",
       "      <th>3</th>\n",
       "      <td>1.0</td>\n",
       "    </tr>\n",
       "    <tr>\n",
       "      <th>4</th>\n",
       "      <td>1.0</td>\n",
       "    </tr>\n",
       "    <tr>\n",
       "      <th>5</th>\n",
       "      <td>1.0</td>\n",
       "    </tr>\n",
       "    <tr>\n",
       "      <th>6</th>\n",
       "      <td>5.0</td>\n",
       "    </tr>\n",
       "  </tbody>\n",
       "</table>\n",
       "</div>"
      ],
      "text/plain": [
       "       weights\n",
       "faces         \n",
       "1          1.0\n",
       "2          1.0\n",
       "3          1.0\n",
       "4          1.0\n",
       "5          1.0\n",
       "6          5.0"
      ]
     },
     "execution_count": 12,
     "metadata": {},
     "output_type": "execute_result"
    }
   ],
   "source": [
    "die1.change_weight(6, 5)\n",
    "die1.die_state()"
   ]
  },
  {
   "cell_type": "markdown",
   "id": "7f6c062a-4c5b-45b9-96b8-76a0354c7e47",
   "metadata": {},
   "source": [
    "Task 3. Convert another of the dice to be unfair by weighting the face $1$ five times more than the others.\n",
    "\n",
    "- Unfair die created with proper call to weight change method (1)."
   ]
  },
  {
   "cell_type": "code",
   "execution_count": 13,
   "id": "01133a4e-6b06-4246-8d90-8e6d6995be51",
   "metadata": {},
   "outputs": [
    {
     "data": {
      "text/html": [
       "<div>\n",
       "<style scoped>\n",
       "    .dataframe tbody tr th:only-of-type {\n",
       "        vertical-align: middle;\n",
       "    }\n",
       "\n",
       "    .dataframe tbody tr th {\n",
       "        vertical-align: top;\n",
       "    }\n",
       "\n",
       "    .dataframe thead th {\n",
       "        text-align: right;\n",
       "    }\n",
       "</style>\n",
       "<table border=\"1\" class=\"dataframe\">\n",
       "  <thead>\n",
       "    <tr style=\"text-align: right;\">\n",
       "      <th></th>\n",
       "      <th>weights</th>\n",
       "    </tr>\n",
       "    <tr>\n",
       "      <th>faces</th>\n",
       "      <th></th>\n",
       "    </tr>\n",
       "  </thead>\n",
       "  <tbody>\n",
       "    <tr>\n",
       "      <th>1</th>\n",
       "      <td>5.0</td>\n",
       "    </tr>\n",
       "    <tr>\n",
       "      <th>2</th>\n",
       "      <td>1.0</td>\n",
       "    </tr>\n",
       "    <tr>\n",
       "      <th>3</th>\n",
       "      <td>1.0</td>\n",
       "    </tr>\n",
       "    <tr>\n",
       "      <th>4</th>\n",
       "      <td>1.0</td>\n",
       "    </tr>\n",
       "    <tr>\n",
       "      <th>5</th>\n",
       "      <td>1.0</td>\n",
       "    </tr>\n",
       "    <tr>\n",
       "      <th>6</th>\n",
       "      <td>1.0</td>\n",
       "    </tr>\n",
       "  </tbody>\n",
       "</table>\n",
       "</div>"
      ],
      "text/plain": [
       "       weights\n",
       "faces         \n",
       "1          5.0\n",
       "2          1.0\n",
       "3          1.0\n",
       "4          1.0\n",
       "5          1.0\n",
       "6          1.0"
      ]
     },
     "execution_count": 13,
     "metadata": {},
     "output_type": "execute_result"
    }
   ],
   "source": [
    "die2.change_weight(1, 5)\n",
    "die2.die_state()"
   ]
  },
  {
   "cell_type": "markdown",
   "id": "f0ed31cb-0a3c-4eb2-b85e-6ed6b2eb6e58",
   "metadata": {},
   "source": [
    "Task 4. Play a game of $10000$ rolls with $5$ fair dice.\n",
    "\n",
    "- Game class properly instantiated (1). \n",
    "- Play method called properly (1)."
   ]
  },
  {
   "cell_type": "code",
   "execution_count": 14,
   "id": "e92395a4-9ed8-4cb0-8c85-38768a784ffc",
   "metadata": {},
   "outputs": [],
   "source": [
    "game_die1 = montecarlo.GameClass([die3, die3, die3, die3, die3])\n",
    "game_die1.play(10000)"
   ]
  },
  {
   "cell_type": "markdown",
   "id": "7814b402-46a4-40e5-8141-20e05c3e646b",
   "metadata": {},
   "source": [
    "Task 5. Play another game of $10000$ rolls, this time with $2$ unfair dice, one as defined in steps #2 and #3 respectively, and $3$ fair dice.\n",
    "\n",
    "- Game class properly instantiated (1). \n",
    "- Play method called properly (1)."
   ]
  },
  {
   "cell_type": "code",
   "execution_count": 15,
   "id": "7cd58fba-b2a5-4d5d-bc6d-2a7a68d18c4f",
   "metadata": {},
   "outputs": [],
   "source": [
    "game_die2 = montecarlo.GameClass([die1, die2, die3, die3, die3])\n",
    "game_die2.play(10000)"
   ]
  },
  {
   "cell_type": "markdown",
   "id": "7b6cd372-2bb8-4df8-ade1-8f48bc300955",
   "metadata": {},
   "source": [
    "Task 6. For each game, use an Analyzer object to determine the relative frequency of jackpots and show your results, comparing the two relative frequencies, in a simple bar chart.\n",
    "\n",
    "- Jackpot methods called (1).\n",
    "- Graph produced (1)."
   ]
  },
  {
   "cell_type": "code",
   "execution_count": 16,
   "id": "bbdcf695-8937-406e-9b53-aa0b9ee3c59a",
   "metadata": {},
   "outputs": [
    {
     "name": "stdout",
     "output_type": "stream",
     "text": [
      "6\n",
      "6\n"
     ]
    }
   ],
   "source": [
    "analyzer_die1 = montecarlo.AnalyzeClass(game_die1)\n",
    "analyzer_die2 = montecarlo.AnalyzeClass(game_die2)\n",
    "print(analyzer_die1.check_jackpot())\n",
    "print(analyzer_die2.check_jackpot())\n",
    "rel_freq_die1 = analyzer_die1.check_jackpot()/1000\n",
    "rel_freq_die2 = analyzer_die2.check_jackpot()/1000"
   ]
  },
  {
   "cell_type": "code",
   "execution_count": 17,
   "id": "8309ceb9-abe6-4fbf-acbf-0b6b0cd5946a",
   "metadata": {
    "tags": []
   },
   "outputs": [
    {
     "data": {
      "text/plain": [
       "<BarContainer object of 2 artists>"
      ]
     },
     "execution_count": 17,
     "metadata": {},
     "output_type": "execute_result"
    },
    {
     "data": {
      "image/png": "[encoded data removed]",
      "text/plain": [
       "<Figure size 640x480 with 1 Axes>"
      ]
     },
     "metadata": {},
     "output_type": "display_data"
    }
   ],
   "source": [
    "#import matplotlib.pyplot as plt\n",
    "plt.bar([0,1], [rel_freq_die1, rel_freq_die2], tick_label=['fair die game', 'unfair die game'])"
   ]
  },
  {
   "cell_type": "markdown",
   "id": "9f04e9be-8fcf-4ea4-a391-6614608285f8",
   "metadata": {},
   "source": [
    "## Scenario 3: Letters of the Alphabet (7)\n",
    "\n",
    "Task 1. Create a \"die\" of letters from $A$ to $Z$ with weights based on their frequency of usage as found in the data file `english_letters.txt`. Use the frequencies (i.e. raw counts) as weights.\n",
    "\n",
    "- Die correctly instantiated with source file data (1).\n",
    "- Weights properly applied using weight setting method (1)."
   ]
  },
  {
   "cell_type": "code",
   "execution_count": 31,
   "id": "b0ceb771-3cdf-4d8f-8c2c-020806bbb909",
   "metadata": {},
   "outputs": [
    {
     "data": {
      "text/html": [
       "<div>\n",
       "<style scoped>\n",
       "    .dataframe tbody tr th:only-of-type {\n",
       "        vertical-align: middle;\n",
       "    }\n",
       "\n",
       "    .dataframe tbody tr th {\n",
       "        vertical-align: top;\n",
       "    }\n",
       "\n",
       "    .dataframe thead th {\n",
       "        text-align: right;\n",
       "    }\n",
       "</style>\n",
       "<table border=\"1\" class=\"dataframe\">\n",
       "  <thead>\n",
       "    <tr style=\"text-align: right;\">\n",
       "      <th></th>\n",
       "      <th>0</th>\n",
       "      <th>1</th>\n",
       "    </tr>\n",
       "  </thead>\n",
       "  <tbody>\n",
       "    <tr>\n",
       "      <th>0</th>\n",
       "      <td>E</td>\n",
       "      <td>529117365</td>\n",
       "    </tr>\n",
       "    <tr>\n",
       "      <th>1</th>\n",
       "      <td>T</td>\n",
       "      <td>390965105</td>\n",
       "    </tr>\n",
       "    <tr>\n",
       "      <th>2</th>\n",
       "      <td>A</td>\n",
       "      <td>374061888</td>\n",
       "    </tr>\n",
       "    <tr>\n",
       "      <th>3</th>\n",
       "      <td>O</td>\n",
       "      <td>326627740</td>\n",
       "    </tr>\n",
       "    <tr>\n",
       "      <th>4</th>\n",
       "      <td>I</td>\n",
       "      <td>320410057</td>\n",
       "    </tr>\n",
       "  </tbody>\n",
       "</table>\n",
       "</div>"
      ],
      "text/plain": [
       "   0          1\n",
       "0  E  529117365\n",
       "1  T  390965105\n",
       "2  A  374061888\n",
       "3  O  326627740\n",
       "4  I  320410057"
      ]
     },
     "execution_count": 31,
     "metadata": {},
     "output_type": "execute_result"
    }
   ],
   "source": [
    "import pandas as pd\n",
    "letter_data = pd.read_table('english_letters.txt', delimiter = \" \", header=None)\n",
    "letter_data.head()"
   ]
  },
  {
   "cell_type": "code",
   "execution_count": 32,
   "id": "f267b640-e60b-4734-a5bd-d581f6b730c4",
   "metadata": {
    "tags": []
   },
   "outputs": [],
   "source": [
    "import numpy as np\n",
    "die_letters = letter_data[0].to_numpy()\n",
    "die_weights = letter_data[1].to_numpy()\n",
    "die_obj = montecarlo.DieClass(die_letters)\n",
    "for (l, w) in zip(die_letters, die_weights):\n",
    "    die_obj.change_weight(l, w)"
   ]
  },
  {
   "cell_type": "markdown",
   "id": "88e2e14a-6223-470a-a2c8-bca1120d7a5b",
   "metadata": {},
   "source": [
    "Task 2. Play a game involving $4$ of these dice with $1000$ rolls.\n",
    "\n",
    "- Game play method properly called (1)."
   ]
  },
  {
   "cell_type": "code",
   "execution_count": 33,
   "id": "2ae087cc-936d-4f1e-bddb-a7c179d139e0",
   "metadata": {},
   "outputs": [],
   "source": [
    "game_letters = montecarlo.GameClass([die_obj, die_obj, die_obj, die_obj])\n",
    "game_letters.play(1000)"
   ]
  },
  {
   "cell_type": "markdown",
   "id": "3b9ff800-bf1f-4f66-9d7f-ff57a648e9f0",
   "metadata": {},
   "source": [
    "Task 3. Determine how many permutations in your results are actual English words, based on the vocabulary found in `scrabble_words.txt`.\n",
    "\n",
    "- Use permutation method (1).\n",
    "- Get count as difference between permutations and vocabulary (1)."
   ]
  },
  {
   "cell_type": "code",
   "execution_count": 45,
   "id": "ed1c7fa0-cfa3-4cf4-9fd0-9f84b86b0f64",
   "metadata": {},
   "outputs": [
    {
     "name": "stdout",
     "output_type": "stream",
     "text": [
      "the number of actual words produced is: 49\n"
     ]
    }
   ],
   "source": [
    "analyze_letters = montecarlo.AnalyzeClass(game_letters)\n",
    "generated_words = [\"\".join(row) for row in analyze_letters.perm_count().index]\n",
    "vocabulary = pd.read_table('scrabble_words.txt', header=None)[0]\n",
    "generated_words = set(generated_words)\n",
    "vocabulary = set(vocabulary)\n",
    "print(\"the number of actual words produced is:\", len(generated_words.intersection(vocabulary)))"
   ]
  },
  {
   "cell_type": "markdown",
   "id": "fcf068cf-381a-4b3e-ac3a-0510eb4dbdb0",
   "metadata": {},
   "source": [
    "Task 4. Repeat steps #2 and #3, this time with $5$ dice. How many actual words does this produce? Which produces more?\n",
    "\n",
    "- Successfully repreats steps (1).\n",
    "- Identifies parameter with most found words (1)."
   ]
  },
  {
   "cell_type": "code",
   "execution_count": 46,
   "id": "d65f8ea0-06a7-40c8-9f77-478ef5e7fda4",
   "metadata": {},
   "outputs": [],
   "source": [
    "game_letters5 = montecarlo.GameClass([die_obj, die_obj, die_obj, die_obj, die_obj])\n",
    "game_letters5.play(1000)"
   ]
  },
  {
   "cell_type": "code",
   "execution_count": 47,
   "id": "ad41126e-17a8-49aa-abb1-1433a4d0797d",
   "metadata": {
    "tags": []
   },
   "outputs": [
    {
     "name": "stdout",
     "output_type": "stream",
     "text": [
      "the number of actual words produced is: 4\n"
     ]
    }
   ],
   "source": [
    "analyze_letters5 = montecarlo.AnalyzeClass(game_letters5)\n",
    "generated_words_die5 = [\"\".join(row) for row in analyze_letters5.perm_count().index]\n",
    "vocabulary_die5 = pd.read_table('scrabble_words.txt', header=None)[0]\n",
    "generated_words_die5 = set(generated_words_die5)\n",
    "vocabulary_die5 = set(vocabulary_die5)\n",
    "print(\"the number of actual words produced is:\", len(generated_words_die5.intersection(vocabulary_die5)))"
   ]
  },
  {
   "cell_type": "markdown",
   "id": "5fcbaa7c-0163-4280-8317-ed9600374c41",
   "metadata": {},
   "source": [
    "Rolling 4 dice (task 3) produces more actual words than rolling 5 dice (task 4). "
   ]
  }
 ],
 "metadata": {
  "kernelspec": {
   "display_name": "Python 3 (ipykernel)",
   "language": "python",
   "name": "python3"
  },
  "language_info": {
   "codemirror_mode": {
    "name": "ipython",
    "version": 3
   },
   "file_extension": ".py",
   "mimetype": "text/x-python",
   "name": "python",
   "nbconvert_exporter": "python",
   "pygments_lexer": "ipython3",
   "version": "3.11.4"
  },
  "toc-autonumbering": true,
  "widgets": {
   "application/vnd.jupyter.widget-state+json": {
    "state": {},
    "version_major": 2,
    "version_minor": 0
   }
  }
 },
 "nbformat": 4,
 "nbformat_minor": 5
}
