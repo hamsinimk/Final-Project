{
 "cells": [
  {
   "cell_type": "code",
   "execution_count": 9,
   "id": "4a8a7b93-dd24-4d58-aa05-32408b51289f",
   "metadata": {
    "tags": []
   },
   "outputs": [],
   "source": [
    "!python montecarlo/montecarlo.py"
   ]
  },
  {
   "cell_type": "code",
   "execution_count": 10,
   "id": "b797af44-f810-406c-b8f7-9737c0d34bf3",
   "metadata": {
    "tags": []
   },
   "outputs": [
    {
     "name": "stdout",
     "output_type": "stream",
     "text": [
      "test_01_init (__main__.DieGameAnalyzeTestSuite.test_01_init) ... ok\n",
      "test_02_change_weight (__main__.DieGameAnalyzeTestSuite.test_02_change_weight) ... ok\n",
      "test_03_roll_dice (__main__.DieGameAnalyzeTestSuite.test_03_roll_dice) ... ok\n",
      "test_04_die_state (__main__.DieGameAnalyzeTestSuite.test_04_die_state) ... ok\n",
      "test_05_init (__main__.DieGameAnalyzeTestSuite.test_05_init) ... ok\n",
      "test_06_play (__main__.DieGameAnalyzeTestSuite.test_06_play) ... ok\n",
      "test_07_recent_play (__main__.DieGameAnalyzeTestSuite.test_07_recent_play) ... ok\n",
      "test_08_init (__main__.DieGameAnalyzeTestSuite.test_08_init) ... ok\n",
      "test_09_jackpot (__main__.DieGameAnalyzeTestSuite.test_09_jackpot) ... ok\n",
      "test_10_face_counts (__main__.DieGameAnalyzeTestSuite.test_10_face_counts) ... ok\n",
      "test_11_combo_count (__main__.DieGameAnalyzeTestSuite.test_11_combo_count) ... ok\n",
      "test_12_perm_count (__main__.DieGameAnalyzeTestSuite.test_12_perm_count) ... ok\n",
      "\n",
      "----------------------------------------------------------------------\n",
      "Ran 12 tests in 0.026s\n",
      "\n",
      "OK\n"
     ]
    }
   ],
   "source": [
    "!python montecarlo/montecarlo_test.py"
   ]
  }
 ],
 "metadata": {
  "kernelspec": {
   "display_name": "Python 3 (ipykernel)",
   "language": "python",
   "name": "python3"
  },
  "language_info": {
   "codemirror_mode": {
    "name": "ipython",
    "version": 3
   },
   "file_extension": ".py",
   "mimetype": "text/x-python",
   "name": "python",
   "nbconvert_exporter": "python",
   "pygments_lexer": "ipython3",
   "version": "3.11.4"
  }
 },
 "nbformat": 4,
 "nbformat_minor": 5
}
