{
 "cells": [
  {
   "cell_type": "code",
   "execution_count": 3,
   "id": "473dd19b-38c1-404a-a22d-0c04b1404260",
   "metadata": {
    "tags": []
   },
   "outputs": [],
   "source": [
    "!python diegame1.py"
   ]
  },
  {
   "cell_type": "code",
   "execution_count": 4,
   "id": "22f1796f-b60f-4cf2-b51f-8c220e92757e",
   "metadata": {
    "tags": []
   },
   "outputs": [
    {
     "name": "stdout",
     "output_type": "stream",
     "text": [
      "test_10_face_counts (__main__.DieGameAnalyzeTestSuite.test_10_face_counts) ... ok\n",
      "test_11_combo_count (__main__.DieGameAnalyzeTestSuite.test_11_combo_count) ... ok\n",
      "test_12_perm_count (__main__.DieGameAnalyzeTestSuite.test_12_perm_count) ... ok\n",
      "test_1_init (__main__.DieGameAnalyzeTestSuite.test_1_init) ... ok\n",
      "test_2_change_weight (__main__.DieGameAnalyzeTestSuite.test_2_change_weight) ... ok\n",
      "test_3_roll_dice (__main__.DieGameAnalyzeTestSuite.test_3_roll_dice) ... ok\n",
      "test_4_die_state (__main__.DieGameAnalyzeTestSuite.test_4_die_state) ... ok\n",
      "test_5_init (__main__.DieGameAnalyzeTestSuite.test_5_init) ... ok\n",
      "test_6_play (__main__.DieGameAnalyzeTestSuite.test_6_play) ... ok\n",
      "test_7_recent_play (__main__.DieGameAnalyzeTestSuite.test_7_recent_play) ... ok\n",
      "test_8_init (__main__.DieGameAnalyzeTestSuite.test_8_init) ... ok\n",
      "test_9_jackpot (__main__.DieGameAnalyzeTestSuite.test_9_jackpot) ... ok\n",
      "\n",
      "----------------------------------------------------------------------\n",
      "Ran 12 tests in 0.027s\n",
      "\n",
      "OK\n"
     ]
    }
   ],
   "source": [
    "!python diegame1_test.py"
   ]
  }
 ],
 "metadata": {
  "kernelspec": {
   "display_name": "Python 3 (ipykernel)",
   "language": "python",
   "name": "python3"
  },
  "language_info": {
   "codemirror_mode": {
    "name": "ipython",
    "version": 3
   },
   "file_extension": ".py",
   "mimetype": "text/x-python",
   "name": "python",
   "nbconvert_exporter": "python",
   "pygments_lexer": "ipython3",
   "version": "3.11.4"
  }
 },
 "nbformat": 4,
 "nbformat_minor": 5
}
