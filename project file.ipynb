{
 "cells": [
  {
   "cell_type": "code",
   "execution_count": 1,
   "id": "3dcee266-dfeb-48c3-8e86-30b61af59cde",
   "metadata": {
    "tags": []
   },
   "outputs": [],
   "source": [
    "import numpy as np\n",
    "import pandas as pd\n",
    "\n",
    "class DieClass():\n",
    "    \"\"\"\n",
    "    General definition: The DieClass is used to create a die object. This class will be used to first create a die \n",
    "    with any number of sides or faces and weights of each side default to 1. The user can also change the weight of any side, \n",
    "    one side at a time. Then, the die can be rolled a specified number of times and the state of the die, \n",
    "    which includes the faces and weights, can be returned.\n",
    "    \n",
    "    \"\"\"\n",
    "    \n",
    "    def __init__(self, faces):\n",
    "        \"\"\"\n",
    "        Purpose: The purpose of the __init__ method is to essentially create the die object as a pandas dataframe. \n",
    "        Input Argument(s): faces\n",
    "            Faces is an np array that contains the faces of the die object you are creating. If you pass in 2 face or side values\n",
    "            in the np array, then you will be creating a die of 2 sides, which is a coin. If you pass in 6 values in the np array,\n",
    "            you will be creating a traditional die to play with later on. The faces array can contain integers or strings. \n",
    "        Once the faces array is passed, a pandas dataframe is made with default weights of 1 for each side, making a \"fair\"\n",
    "        dice and the index for the dataframe is set to the faces of the object. Furthermore, the weights in the dataframe \n",
    "        are modified to be proportions so they are less than 1. \n",
    "        \n",
    "        \"\"\"\n",
    "        if not isinstance(faces, np.ndarray):\n",
    "            raise TypeError(\"you have to pass a numpy array!\")\n",
    "        if not all([isinstance(f, (np.int32, np.int64, np.str_)) for f in faces]):\n",
    "            raise TypeError(\"you have to pass strings or integers!\")\n",
    "        if len(np.unique(faces)) != len(faces):\n",
    "            raise ValueError(\"array should have distinct values!\")\n",
    "        self.die_df = pd.DataFrame({\n",
    "            'faces': faces, \n",
    "            'weights': np.ones(len(faces), dtype=float)}\n",
    "        ).set_index(['faces'])\n",
    "        #self.die_df['weights'] = self.die_df['weights']/np.sum(self.die_df['weights']) # maybe don't alter the weights here? and do it for p below\n",
    "    \n",
    "    def change_weight(self, face_val, new_weight):\n",
    "        \"\"\"\n",
    "        Purpose: The purpose of the change_weight method is to allow the user to change the weight of a single face or side\n",
    "        of the die as the default weights are 1 for each side, as mentioned above. The weight of each side can only be \n",
    "        altered one at a time. By doing this, you can create an \"unfair\" dice. Using the specified face value, which is the\n",
    "        index of the dataframe, the weight is changed to the new weight. \n",
    "        \n",
    "        Input Arguments: \n",
    "        face_val: The user will pass the face or side that they want to change the weight for. The method will make \n",
    "        sure that the face value that's passed is already in the die array. \n",
    "        new_weight: The new weight is specified, which should be a numeric or castable as a numeric. The method checks if \n",
    "        it is a numeric or castable as a numeric and raises an error if not. \n",
    "        \n",
    "        \"\"\"\n",
    "        if face_val not in self.die_df.index:\n",
    "            raise IndexError(\"this is not a valid face value!\")\n",
    "        if not str(new_weight).isnumeric():\n",
    "            raise TypeError(\"new weight is not numeric\")\n",
    "        self.die_df.loc[face_val, 'weights'] = new_weight\n",
    "        #self.die_df['weights'] = self.die_df['weights']/np.sum(self.die_df['weights'])\n",
    "        \n",
    "    def roll_die(self, num_rolls=1):\n",
    "        \"\"\"\n",
    "        Purpose: The purpose of the roll_die method is to roll the die based on the weights of each face. The die is rolled\n",
    "        by using random sampling with replacement based on the weights. The results of the roll won't be saved, but \n",
    "        the method will return a list of the face values that were rolled. \n",
    "        \n",
    "        Input Arguments:\n",
    "        num_rolls: Any number of rolls can be specified here to roll the die. The default value for the number the rolls is 1, so if no value is passed, \n",
    "        the die will be rolled once. \n",
    "        \"\"\"\n",
    "        self.die_df['weights'] = self.die_df['weights']/np.sum(self.die_df['weights'])\n",
    "        return list(np.random.choice(self.die_df.index, num_rolls, replace = True, p = self.die_df['weights']))\n",
    "        \n",
    "    def die_state(self):\n",
    "        \"\"\"\n",
    "        Purpose: The purpose of the die state is just to return the private die dataframe. Essentially, the user will be\n",
    "        able to see the faces of the die and the associated face values. \n",
    "        \n",
    "        Input Arguments: None\n",
    "        \n",
    "        \"\"\"\n",
    "        return self.die_df"
   ]
  },
  {
   "cell_type": "code",
   "execution_count": 2,
   "id": "a8c8b20c-a1f8-4558-9352-591287244152",
   "metadata": {
    "tags": []
   },
   "outputs": [],
   "source": [
    "mydie = DieClass(np.array([1, 2, 3]))"
   ]
  },
  {
   "cell_type": "code",
   "execution_count": 24,
   "id": "bde48060-b15a-44ce-90a7-a638213cdffe",
   "metadata": {
    "tags": []
   },
   "outputs": [
    {
     "data": {
      "text/plain": [
       "False"
      ]
     },
     "execution_count": 24,
     "metadata": {},
     "output_type": "execute_result"
    }
   ],
   "source": [
    "isinstance(mydie.change_weight(1,2), pd.DataFrame)"
   ]
  },
  {
   "cell_type": "code",
   "execution_count": 4,
   "id": "8b05493d-4100-4273-946f-798dba171cd5",
   "metadata": {
    "tags": []
   },
   "outputs": [
    {
     "data": {
      "text/html": [
       "<div>\n",
       "<style scoped>\n",
       "    .dataframe tbody tr th:only-of-type {\n",
       "        vertical-align: middle;\n",
       "    }\n",
       "\n",
       "    .dataframe tbody tr th {\n",
       "        vertical-align: top;\n",
       "    }\n",
       "\n",
       "    .dataframe thead th {\n",
       "        text-align: right;\n",
       "    }\n",
       "</style>\n",
       "<table border=\"1\" class=\"dataframe\">\n",
       "  <thead>\n",
       "    <tr style=\"text-align: right;\">\n",
       "      <th></th>\n",
       "      <th>weights</th>\n",
       "    </tr>\n",
       "    <tr>\n",
       "      <th>faces</th>\n",
       "      <th></th>\n",
       "    </tr>\n",
       "  </thead>\n",
       "  <tbody>\n",
       "    <tr>\n",
       "      <th>1</th>\n",
       "      <td>0.333333</td>\n",
       "    </tr>\n",
       "    <tr>\n",
       "      <th>2</th>\n",
       "      <td>0.333333</td>\n",
       "    </tr>\n",
       "    <tr>\n",
       "      <th>3</th>\n",
       "      <td>0.333333</td>\n",
       "    </tr>\n",
       "  </tbody>\n",
       "</table>\n",
       "</div>"
      ],
      "text/plain": [
       "        weights\n",
       "faces          \n",
       "1      0.333333\n",
       "2      0.333333\n",
       "3      0.333333"
      ]
     },
     "execution_count": 4,
     "metadata": {},
     "output_type": "execute_result"
    }
   ],
   "source": [
    "mydie.die_state()"
   ]
  },
  {
   "cell_type": "code",
   "execution_count": 3,
   "id": "82224a95-1633-4dfb-a6a2-43e2cf6d2c37",
   "metadata": {
    "tags": []
   },
   "outputs": [
    {
     "data": {
      "text/plain": [
       "[3, 3, 3, 3, 2]"
      ]
     },
     "execution_count": 3,
     "metadata": {},
     "output_type": "execute_result"
    }
   ],
   "source": [
    "mydie.roll_die(5)"
   ]
  },
  {
   "cell_type": "code",
   "execution_count": 41,
   "id": "5d02bec1-5716-4db0-8ce3-c25c1f0a1a56",
   "metadata": {
    "tags": []
   },
   "outputs": [
    {
     "data": {
      "text/plain": [
       "True"
      ]
     },
     "execution_count": 41,
     "metadata": {},
     "output_type": "execute_result"
    }
   ],
   "source": [
    "isinstance(mydie.die_state(), pd.DataFrame)"
   ]
  },
  {
   "cell_type": "code",
   "execution_count": null,
   "id": "7173620f-ee14-4129-a0ec-f75aa107039a",
   "metadata": {},
   "outputs": [],
   "source": [
    "np.random.choice(5, 3, replace=False, p=[0.1, 0, 0.3, 0.6, 0])\n",
    "array([2, 3, 0])"
   ]
  },
  {
   "cell_type": "code",
   "execution_count": 2,
   "id": "991b39a1-c87c-4717-bc87-317afc33750e",
   "metadata": {},
   "outputs": [],
   "source": [
    "class GameClass():\n",
    "    \"\"\"\n",
    "    General definition: The GameClass is used to simulate a game in which one or more similar die are rolled. The die are \"similar\" in that if multiple\n",
    "    die objects are passed, they must have the number of sides and associated face values. But, if the user chooses to do so,\n",
    "    the weight values of the faces can be different between the die objects. \n",
    "    \"\"\"\n",
    "    def __init__(self, die_obj):\n",
    "        \"\"\"\n",
    "        Purpose: The __init__ method takes a list of already instantiated die object(s).  \n",
    "        \n",
    "        Input Arguments:\n",
    "        die_obj: The die object consists of a list of die that are instantiated using the previous DieClass. The list can be specified \n",
    "        prior to passing it through GameClass(), for ease, or can be done simultaneoulsy while passing it through GameClass.\n",
    "        \"\"\"\n",
    "        self.die_obj = die_obj\n",
    "    def play(self,num_rolls):\n",
    "        \"\"\"\n",
    "        Purpose: The play method is used to roll each dice in the die_obj specified above. Essentially, the method from\n",
    "        DieClass (roll_die) is invoked to roll each die and the results of each roll are saved to a dataframe that include the\n",
    "        number of the roll as the index with each die number (based on its index in the passed list) as the columns and \n",
    "        the face value that is rolled in each cell. This described layout for the dataframe follows a wide format.\n",
    "        Unlike the roll_die method in DieClass, the results are saved.\n",
    "        \n",
    "        Input Arguments: \n",
    "        num_rolls: The number of rolls is again specified here to roll each die a specific number of times using the roll_die\n",
    "        method from DieClass. \n",
    "        \n",
    "        \"\"\"\n",
    "        roll_results = []\n",
    "        for die in self.die_obj:\n",
    "            roll_results.append(die.roll_die(num_rolls))\n",
    "        self.play_df = pd.DataFrame(roll_results).T\n",
    "        self.play_df.columns = [f'Die {i}' for i in range(len(self.die_obj))] \n",
    "        self.play_df['roll number'] = range(1, num_rolls+1)\n",
    "        self.play_df = self.play_df.set_index(['roll number'])\n",
    "    def recent_play(self,format_play='wide'):\n",
    "        \"\"\"\n",
    "        Purpose: The purpose of the recent_play method is to return the results of the game to the user based on the format that\n",
    "        they specify. The two options for the returned dataframe are wide or narrow. \n",
    "        \n",
    "        Input Arguments:\n",
    "        format_play: The format of the returned dataframe can be either wide or narrow. As defined above in the play method, the \n",
    "        dataframe is constructed with a wide format, which is the default value for the argument. The user can specify narrow \n",
    "        if they want to change the format from the default. If an argument other than narrow or wide is provided, a ValueError is\n",
    "        raised and nothing will be returned. \n",
    "        \n",
    "        \"\"\"\n",
    "        if format_play == 'narrow':\n",
    "            play_df_reset = self.play_df.reset_index()\n",
    "            narrow_df = pd.melt(play_df_reset, id_vars = 'roll number', value_vars = self.play_df.columns,\n",
    "                               var_name = 'Die', value_name = 'roll result')\n",
    "            narrow_df = narrow_df.set_index(['roll number', 'Die'])\n",
    "            return narrow_df\n",
    "        elif format_play == 'wide':\n",
    "            return self.play_df\n",
    "        else:\n",
    "            raise ValueError('the only table format options are either wide (default) or narrow!')                                                        "
   ]
  },
  {
   "cell_type": "code",
   "execution_count": 3,
   "id": "d9052025-03c7-40fa-ba26-39f86f277088",
   "metadata": {
    "tags": []
   },
   "outputs": [],
   "source": [
    "mydie = [DieClass(np.array([1,2,3,4,5,6])), DieClass(np.array([1,2,3,4,5,6])), DieClass(np.array([1,2,3,4,5,6]))]"
   ]
  },
  {
   "cell_type": "code",
   "execution_count": 7,
   "id": "b50a617d-6794-4ac4-ba50-3cf8a29ec995",
   "metadata": {
    "tags": []
   },
   "outputs": [],
   "source": [
    "mydie = [DieClass(np.array([1])),DieClass(np.array([1]))]"
   ]
  },
  {
   "cell_type": "code",
   "execution_count": 4,
   "id": "c7c1812f-c7e4-4f3b-9abd-e90857bbb21e",
   "metadata": {
    "tags": []
   },
   "outputs": [],
   "source": [
    "mygame = GameClass(mydie)"
   ]
  },
  {
   "cell_type": "code",
   "execution_count": 7,
   "id": "45507990-e594-4363-8d6f-6d5d609a6548",
   "metadata": {
    "tags": []
   },
   "outputs": [
    {
     "name": "stdout",
     "output_type": "stream",
     "text": [
      "6\n"
     ]
    }
   ],
   "source": [
    "print(len(mygame.die_obj))"
   ]
  },
  {
   "cell_type": "code",
   "execution_count": 5,
   "id": "4bb169fc-d255-4b99-85cf-6d0f2d8a6662",
   "metadata": {
    "tags": []
   },
   "outputs": [],
   "source": [
    "mygame.play(5)"
   ]
  },
  {
   "cell_type": "code",
   "execution_count": 6,
   "id": "41b892b5-2a28-4664-9dc9-ca1ed19c2288",
   "metadata": {
    "tags": []
   },
   "outputs": [
    {
     "data": {
      "text/html": [
       "<div>\n",
       "<style scoped>\n",
       "    .dataframe tbody tr th:only-of-type {\n",
       "        vertical-align: middle;\n",
       "    }\n",
       "\n",
       "    .dataframe tbody tr th {\n",
       "        vertical-align: top;\n",
       "    }\n",
       "\n",
       "    .dataframe thead th {\n",
       "        text-align: right;\n",
       "    }\n",
       "</style>\n",
       "<table border=\"1\" class=\"dataframe\">\n",
       "  <thead>\n",
       "    <tr style=\"text-align: right;\">\n",
       "      <th></th>\n",
       "      <th>Die 0</th>\n",
       "      <th>Die 1</th>\n",
       "      <th>Die 2</th>\n",
       "    </tr>\n",
       "    <tr>\n",
       "      <th>roll number</th>\n",
       "      <th></th>\n",
       "      <th></th>\n",
       "      <th></th>\n",
       "    </tr>\n",
       "  </thead>\n",
       "  <tbody>\n",
       "    <tr>\n",
       "      <th>1</th>\n",
       "      <td>1</td>\n",
       "      <td>2</td>\n",
       "      <td>4</td>\n",
       "    </tr>\n",
       "    <tr>\n",
       "      <th>2</th>\n",
       "      <td>6</td>\n",
       "      <td>4</td>\n",
       "      <td>5</td>\n",
       "    </tr>\n",
       "    <tr>\n",
       "      <th>3</th>\n",
       "      <td>3</td>\n",
       "      <td>1</td>\n",
       "      <td>6</td>\n",
       "    </tr>\n",
       "    <tr>\n",
       "      <th>4</th>\n",
       "      <td>2</td>\n",
       "      <td>1</td>\n",
       "      <td>3</td>\n",
       "    </tr>\n",
       "    <tr>\n",
       "      <th>5</th>\n",
       "      <td>6</td>\n",
       "      <td>6</td>\n",
       "      <td>6</td>\n",
       "    </tr>\n",
       "  </tbody>\n",
       "</table>\n",
       "</div>"
      ],
      "text/plain": [
       "             Die 0  Die 1  Die 2\n",
       "roll number                     \n",
       "1                1      2      4\n",
       "2                6      4      5\n",
       "3                3      1      6\n",
       "4                2      1      3\n",
       "5                6      6      6"
      ]
     },
     "execution_count": 6,
     "metadata": {},
     "output_type": "execute_result"
    }
   ],
   "source": [
    "mygame.play_df"
   ]
  },
  {
   "cell_type": "code",
   "execution_count": 20,
   "id": "bb13c9cb-cde8-44eb-9e40-1155f49650f1",
   "metadata": {
    "tags": []
   },
   "outputs": [
    {
     "data": {
      "text/html": [
       "<div>\n",
       "<style scoped>\n",
       "    .dataframe tbody tr th:only-of-type {\n",
       "        vertical-align: middle;\n",
       "    }\n",
       "\n",
       "    .dataframe tbody tr th {\n",
       "        vertical-align: top;\n",
       "    }\n",
       "\n",
       "    .dataframe thead th {\n",
       "        text-align: right;\n",
       "    }\n",
       "</style>\n",
       "<table border=\"1\" class=\"dataframe\">\n",
       "  <thead>\n",
       "    <tr style=\"text-align: right;\">\n",
       "      <th></th>\n",
       "      <th>Die 0</th>\n",
       "      <th>Die 1</th>\n",
       "      <th>Die 2</th>\n",
       "    </tr>\n",
       "    <tr>\n",
       "      <th>roll number</th>\n",
       "      <th></th>\n",
       "      <th></th>\n",
       "      <th></th>\n",
       "    </tr>\n",
       "  </thead>\n",
       "  <tbody>\n",
       "    <tr>\n",
       "      <th>1</th>\n",
       "      <td>4</td>\n",
       "      <td>6</td>\n",
       "      <td>3</td>\n",
       "    </tr>\n",
       "    <tr>\n",
       "      <th>2</th>\n",
       "      <td>3</td>\n",
       "      <td>4</td>\n",
       "      <td>3</td>\n",
       "    </tr>\n",
       "    <tr>\n",
       "      <th>3</th>\n",
       "      <td>2</td>\n",
       "      <td>4</td>\n",
       "      <td>4</td>\n",
       "    </tr>\n",
       "  </tbody>\n",
       "</table>\n",
       "</div>"
      ],
      "text/plain": [
       "             Die 0  Die 1  Die 2\n",
       "roll number                     \n",
       "1                4      6      3\n",
       "2                3      4      3\n",
       "3                2      4      4"
      ]
     },
     "execution_count": 20,
     "metadata": {},
     "output_type": "execute_result"
    }
   ],
   "source": [
    "mygame.recent_play()"
   ]
  },
  {
   "cell_type": "code",
   "execution_count": 14,
   "id": "0fa688c5-2d93-45fe-9e34-8dc220f353b3",
   "metadata": {
    "tags": []
   },
   "outputs": [
    {
     "data": {
      "text/plain": [
       "False"
      ]
     },
     "execution_count": 14,
     "metadata": {},
     "output_type": "execute_result"
    }
   ],
   "source": [
    "isinstance(mygame.play(6), pd.DataFrame)"
   ]
  },
  {
   "cell_type": "code",
   "execution_count": 16,
   "id": "0037a02e-de95-4588-8fd6-46ae7ea1d790",
   "metadata": {
    "tags": []
   },
   "outputs": [
    {
     "ename": "AttributeError",
     "evalue": "'NoneType' object has no attribute 'play_df'",
     "output_type": "error",
     "traceback": [
      "\u001b[0;31m---------------------------------------------------------------------------\u001b[0m",
      "\u001b[0;31mAttributeError\u001b[0m                            Traceback (most recent call last)",
      "Cell \u001b[0;32mIn[16], line 2\u001b[0m\n\u001b[1;32m      1\u001b[0m mygame1 \u001b[38;5;241m=\u001b[39m mygame\u001b[38;5;241m.\u001b[39mplay(\u001b[38;5;241m6\u001b[39m)\n\u001b[0;32m----> 2\u001b[0m \u001b[43mmygame1\u001b[49m\u001b[38;5;241;43m.\u001b[39;49m\u001b[43mplay_df\u001b[49m\n",
      "\u001b[0;31mAttributeError\u001b[0m: 'NoneType' object has no attribute 'play_df'"
     ]
    }
   ],
   "source": [
    "mygame1 = mygame.play(6)\n",
    "mygame1.play_df"
   ]
  },
  {
   "cell_type": "code",
   "execution_count": 27,
   "id": "9fb73f20-7304-4d11-9e51-9529ddf8986a",
   "metadata": {
    "tags": []
   },
   "outputs": [
    {
     "data": {
      "text/plain": [
       "False"
      ]
     },
     "execution_count": 27,
     "metadata": {},
     "output_type": "execute_result"
    }
   ],
   "source": [
    "isinstance(mygame.recent_play().index, pd.MultiIndex)\n",
    "#mygame.recent_play('narrow').index"
   ]
  },
  {
   "cell_type": "code",
   "execution_count": 27,
   "id": "27ff90f5-c21f-44ae-add7-469bf689790d",
   "metadata": {
    "tags": []
   },
   "outputs": [
    {
     "ename": "AttributeError",
     "evalue": "'list' object has no attribute 'change_weight'",
     "output_type": "error",
     "traceback": [
      "\u001b[0;31m---------------------------------------------------------------------------\u001b[0m",
      "\u001b[0;31mAttributeError\u001b[0m                            Traceback (most recent call last)",
      "Cell \u001b[0;32mIn[27], line 1\u001b[0m\n\u001b[0;32m----> 1\u001b[0m \u001b[43mmydie\u001b[49m\u001b[38;5;241;43m.\u001b[39;49m\u001b[43mchange_weight\u001b[49m(\u001b[38;5;241m1\u001b[39m, \u001b[38;5;241m2\u001b[39m)\n",
      "\u001b[0;31mAttributeError\u001b[0m: 'list' object has no attribute 'change_weight'"
     ]
    }
   ],
   "source": [
    "mydie.change_weight(1, 2)"
   ]
  },
  {
   "cell_type": "code",
   "execution_count": 16,
   "id": "03b50893-2efd-4b46-b938-6949338a2e38",
   "metadata": {
    "tags": []
   },
   "outputs": [
    {
     "ename": "AttributeError",
     "evalue": "'list' object has no attribute 'die_df'",
     "output_type": "error",
     "traceback": [
      "\u001b[0;31m---------------------------------------------------------------------------\u001b[0m",
      "\u001b[0;31mAttributeError\u001b[0m                            Traceback (most recent call last)",
      "Cell \u001b[0;32mIn[16], line 1\u001b[0m\n\u001b[0;32m----> 1\u001b[0m \u001b[43mmydie\u001b[49m\u001b[38;5;241;43m.\u001b[39;49m\u001b[43mdie_df\u001b[49m\n",
      "\u001b[0;31mAttributeError\u001b[0m: 'list' object has no attribute 'die_df'"
     ]
    }
   ],
   "source": [
    "mydie.die_df"
   ]
  },
  {
   "cell_type": "code",
   "execution_count": 32,
   "id": "60b6601b-22b2-4f46-b630-1f80740ad948",
   "metadata": {
    "tags": []
   },
   "outputs": [
    {
     "data": {
      "text/plain": [
       "array([5, 1, 1, 3, 1, 1])"
      ]
     },
     "execution_count": 32,
     "metadata": {},
     "output_type": "execute_result"
    }
   ],
   "source": [
    "mydie.roll_die(num_rolls = 6)"
   ]
  },
  {
   "cell_type": "code",
   "execution_count": 37,
   "id": "7cb09c0a-9978-4c07-92d1-317ddee8241f",
   "metadata": {
    "tags": []
   },
   "outputs": [
    {
     "data": {
      "text/html": [
       "<div>\n",
       "<style scoped>\n",
       "    .dataframe tbody tr th:only-of-type {\n",
       "        vertical-align: middle;\n",
       "    }\n",
       "\n",
       "    .dataframe tbody tr th {\n",
       "        vertical-align: top;\n",
       "    }\n",
       "\n",
       "    .dataframe thead th {\n",
       "        text-align: right;\n",
       "    }\n",
       "</style>\n",
       "<table border=\"1\" class=\"dataframe\">\n",
       "  <thead>\n",
       "    <tr style=\"text-align: right;\">\n",
       "      <th></th>\n",
       "      <th>weights</th>\n",
       "    </tr>\n",
       "    <tr>\n",
       "      <th>faces</th>\n",
       "      <th></th>\n",
       "    </tr>\n",
       "  </thead>\n",
       "  <tbody>\n",
       "    <tr>\n",
       "      <th>6</th>\n",
       "      <td>0.166667</td>\n",
       "    </tr>\n",
       "    <tr>\n",
       "      <th>12</th>\n",
       "      <td>0.166667</td>\n",
       "    </tr>\n",
       "    <tr>\n",
       "      <th>18</th>\n",
       "      <td>0.166667</td>\n",
       "    </tr>\n",
       "    <tr>\n",
       "      <th>24</th>\n",
       "      <td>0.166667</td>\n",
       "    </tr>\n",
       "    <tr>\n",
       "      <th>30</th>\n",
       "      <td>0.166667</td>\n",
       "    </tr>\n",
       "    <tr>\n",
       "      <th>36</th>\n",
       "      <td>0.166667</td>\n",
       "    </tr>\n",
       "  </tbody>\n",
       "</table>\n",
       "</div>"
      ],
      "text/plain": [
       "        weights\n",
       "faces          \n",
       "6      0.166667\n",
       "12     0.166667\n",
       "18     0.166667\n",
       "24     0.166667\n",
       "30     0.166667\n",
       "36     0.166667"
      ]
     },
     "execution_count": 37,
     "metadata": {},
     "output_type": "execute_result"
    }
   ],
   "source": [
    "mydie.die_state()"
   ]
  },
  {
   "cell_type": "code",
   "execution_count": 7,
   "id": "0e6257b4-a231-477d-828c-86b6bb07295f",
   "metadata": {},
   "outputs": [],
   "source": [
    "class AnalyzeClass():\n",
    "    def __init__(self, game_obj):\n",
    "        if not isinstance(game_obj, GameClass):\n",
    "            raise ValueError('Passed value is not a Game object!')\n",
    "        self.game_obj = game_obj\n",
    "        self.play_df = self.game_obj.play_df\n",
    "    def check_jackpot(self):\n",
    "        num_jackpot = 0\n",
    "        for _, row in self.play_df.iterrows():\n",
    "            if (row==row[0]).all():\n",
    "                num_jackpot+=1\n",
    "        if num_jackpot == 0:\n",
    "            print('No jackpots this game!')\n",
    "        return num_jackpot    \n",
    "    def face_counts(self):\n",
    "        face_count_df = self.play_df.apply(lambda row: row.value_counts(), axis=1) # fix this\n",
    "        face_count_df = face_count_df.fillna(0).astype(int)\n",
    "        return face_count_df\n",
    "    def combo_count(self):\n",
    "        combo_count_df = self.play_df.apply(lambda row: tuple(np.sort(row)), axis = 1).value_counts().to_frame('n')\n",
    "        combo_count_df.index = pd.MultiIndex.from_tuples(combo_count_df.index)\n",
    "        return combo_count_df\n",
    "    def perm_count(self):\n",
    "        perm_count_df = self.play_df.apply(lambda row: tuple(row), axis = 1).value_counts().to_frame('n')\n",
    "        perm_count_df.index = pd.MultiIndex.from_tuples(perm_count_df.index)\n",
    "        return perm_count_df"
   ]
  },
  {
   "cell_type": "code",
   "execution_count": 8,
   "id": "97f1b390-b9bf-4ef9-bf65-250f13997b3f",
   "metadata": {
    "tags": []
   },
   "outputs": [],
   "source": [
    "myanalyze = AnalyzeClass(mygame)"
   ]
  },
  {
   "cell_type": "code",
   "execution_count": 9,
   "id": "9815c6f0-4119-439c-8b1e-92ad96aa9ba3",
   "metadata": {
    "tags": []
   },
   "outputs": [
    {
     "data": {
      "text/plain": [
       "1"
      ]
     },
     "execution_count": 9,
     "metadata": {},
     "output_type": "execute_result"
    }
   ],
   "source": [
    "myanalyze.check_jackpot()"
   ]
  },
  {
   "cell_type": "code",
   "execution_count": 15,
   "id": "006e33e1-b5cc-46db-9050-940cd9679407",
   "metadata": {
    "tags": []
   },
   "outputs": [
    {
     "data": {
      "text/html": [
       "<div>\n",
       "<style scoped>\n",
       "    .dataframe tbody tr th:only-of-type {\n",
       "        vertical-align: middle;\n",
       "    }\n",
       "\n",
       "    .dataframe tbody tr th {\n",
       "        vertical-align: top;\n",
       "    }\n",
       "\n",
       "    .dataframe thead th {\n",
       "        text-align: right;\n",
       "    }\n",
       "</style>\n",
       "<table border=\"1\" class=\"dataframe\">\n",
       "  <thead>\n",
       "    <tr style=\"text-align: right;\">\n",
       "      <th></th>\n",
       "      <th>Die 0</th>\n",
       "      <th>Die 1</th>\n",
       "      <th>Die 2</th>\n",
       "    </tr>\n",
       "    <tr>\n",
       "      <th>roll number</th>\n",
       "      <th></th>\n",
       "      <th></th>\n",
       "      <th></th>\n",
       "    </tr>\n",
       "  </thead>\n",
       "  <tbody>\n",
       "    <tr>\n",
       "      <th>1</th>\n",
       "      <td>3</td>\n",
       "      <td>4</td>\n",
       "      <td>6</td>\n",
       "    </tr>\n",
       "    <tr>\n",
       "      <th>2</th>\n",
       "      <td>1</td>\n",
       "      <td>4</td>\n",
       "      <td>5</td>\n",
       "    </tr>\n",
       "    <tr>\n",
       "      <th>3</th>\n",
       "      <td>6</td>\n",
       "      <td>5</td>\n",
       "      <td>3</td>\n",
       "    </tr>\n",
       "    <tr>\n",
       "      <th>4</th>\n",
       "      <td>2</td>\n",
       "      <td>2</td>\n",
       "      <td>5</td>\n",
       "    </tr>\n",
       "    <tr>\n",
       "      <th>5</th>\n",
       "      <td>2</td>\n",
       "      <td>6</td>\n",
       "      <td>5</td>\n",
       "    </tr>\n",
       "  </tbody>\n",
       "</table>\n",
       "</div>"
      ],
      "text/plain": [
       "             Die 0  Die 1  Die 2\n",
       "roll number                     \n",
       "1                3      4      6\n",
       "2                1      4      5\n",
       "3                6      5      3\n",
       "4                2      2      5\n",
       "5                2      6      5"
      ]
     },
     "execution_count": 15,
     "metadata": {},
     "output_type": "execute_result"
    }
   ],
   "source": [
    "mygame.play_df"
   ]
  },
  {
   "cell_type": "code",
   "execution_count": 16,
   "id": "50d83a1e-d072-49eb-9347-8c5102d37e66",
   "metadata": {
    "tags": []
   },
   "outputs": [
    {
     "data": {
      "text/plain": [
       "False"
      ]
     },
     "execution_count": 16,
     "metadata": {},
     "output_type": "execute_result"
    }
   ],
   "source": [
    "isinstance(myanalyze.face_counts().index, pd.MultiIndex)"
   ]
  },
  {
   "cell_type": "code",
   "execution_count": 12,
   "id": "89f1776e-f27d-458e-a764-556563605329",
   "metadata": {
    "tags": []
   },
   "outputs": [
    {
     "data": {
      "text/html": [
       "<div>\n",
       "<style scoped>\n",
       "    .dataframe tbody tr th:only-of-type {\n",
       "        vertical-align: middle;\n",
       "    }\n",
       "\n",
       "    .dataframe tbody tr th {\n",
       "        vertical-align: top;\n",
       "    }\n",
       "\n",
       "    .dataframe thead th {\n",
       "        text-align: right;\n",
       "    }\n",
       "</style>\n",
       "<table border=\"1\" class=\"dataframe\">\n",
       "  <thead>\n",
       "    <tr style=\"text-align: right;\">\n",
       "      <th></th>\n",
       "      <th></th>\n",
       "      <th></th>\n",
       "      <th>n</th>\n",
       "    </tr>\n",
       "  </thead>\n",
       "  <tbody>\n",
       "    <tr>\n",
       "      <th>1</th>\n",
       "      <th>2</th>\n",
       "      <th>4</th>\n",
       "      <td>1</td>\n",
       "    </tr>\n",
       "    <tr>\n",
       "      <th>6</th>\n",
       "      <th>4</th>\n",
       "      <th>5</th>\n",
       "      <td>1</td>\n",
       "    </tr>\n",
       "    <tr>\n",
       "      <th>3</th>\n",
       "      <th>1</th>\n",
       "      <th>6</th>\n",
       "      <td>1</td>\n",
       "    </tr>\n",
       "    <tr>\n",
       "      <th>2</th>\n",
       "      <th>1</th>\n",
       "      <th>3</th>\n",
       "      <td>1</td>\n",
       "    </tr>\n",
       "    <tr>\n",
       "      <th>6</th>\n",
       "      <th>6</th>\n",
       "      <th>6</th>\n",
       "      <td>1</td>\n",
       "    </tr>\n",
       "  </tbody>\n",
       "</table>\n",
       "</div>"
      ],
      "text/plain": [
       "       n\n",
       "1 2 4  1\n",
       "6 4 5  1\n",
       "3 1 6  1\n",
       "2 1 3  1\n",
       "6 6 6  1"
      ]
     },
     "execution_count": 12,
     "metadata": {},
     "output_type": "execute_result"
    }
   ],
   "source": [
    "myanalyze.perm_count()"
   ]
  },
  {
   "cell_type": "code",
   "execution_count": 11,
   "id": "31af23f1-a3e6-42a3-bdf5-a114dbd489d8",
   "metadata": {
    "tags": []
   },
   "outputs": [
    {
     "data": {
      "text/html": [
       "<div>\n",
       "<style scoped>\n",
       "    .dataframe tbody tr th:only-of-type {\n",
       "        vertical-align: middle;\n",
       "    }\n",
       "\n",
       "    .dataframe tbody tr th {\n",
       "        vertical-align: top;\n",
       "    }\n",
       "\n",
       "    .dataframe thead th {\n",
       "        text-align: right;\n",
       "    }\n",
       "</style>\n",
       "<table border=\"1\" class=\"dataframe\">\n",
       "  <thead>\n",
       "    <tr style=\"text-align: right;\">\n",
       "      <th></th>\n",
       "      <th></th>\n",
       "      <th></th>\n",
       "      <th>n</th>\n",
       "    </tr>\n",
       "  </thead>\n",
       "  <tbody>\n",
       "    <tr>\n",
       "      <th>1</th>\n",
       "      <th>2</th>\n",
       "      <th>4</th>\n",
       "      <td>1</td>\n",
       "    </tr>\n",
       "    <tr>\n",
       "      <th>4</th>\n",
       "      <th>5</th>\n",
       "      <th>6</th>\n",
       "      <td>1</td>\n",
       "    </tr>\n",
       "    <tr>\n",
       "      <th rowspan=\"2\" valign=\"top\">1</th>\n",
       "      <th>3</th>\n",
       "      <th>6</th>\n",
       "      <td>1</td>\n",
       "    </tr>\n",
       "    <tr>\n",
       "      <th>2</th>\n",
       "      <th>3</th>\n",
       "      <td>1</td>\n",
       "    </tr>\n",
       "    <tr>\n",
       "      <th>6</th>\n",
       "      <th>6</th>\n",
       "      <th>6</th>\n",
       "      <td>1</td>\n",
       "    </tr>\n",
       "  </tbody>\n",
       "</table>\n",
       "</div>"
      ],
      "text/plain": [
       "       n\n",
       "1 2 4  1\n",
       "4 5 6  1\n",
       "1 3 6  1\n",
       "  2 3  1\n",
       "6 6 6  1"
      ]
     },
     "execution_count": 11,
     "metadata": {},
     "output_type": "execute_result"
    }
   ],
   "source": [
    "myanalyze.combo_count()"
   ]
  },
  {
   "cell_type": "code",
   "execution_count": 10,
   "id": "9291a582-868c-4cd4-99fc-c09729572209",
   "metadata": {},
   "outputs": [
    {
     "data": {
      "text/html": [
       "<div>\n",
       "<style scoped>\n",
       "    .dataframe tbody tr th:only-of-type {\n",
       "        vertical-align: middle;\n",
       "    }\n",
       "\n",
       "    .dataframe tbody tr th {\n",
       "        vertical-align: top;\n",
       "    }\n",
       "\n",
       "    .dataframe thead th {\n",
       "        text-align: right;\n",
       "    }\n",
       "</style>\n",
       "<table border=\"1\" class=\"dataframe\">\n",
       "  <thead>\n",
       "    <tr style=\"text-align: right;\">\n",
       "      <th></th>\n",
       "      <th>1</th>\n",
       "      <th>2</th>\n",
       "      <th>3</th>\n",
       "      <th>4</th>\n",
       "      <th>5</th>\n",
       "      <th>6</th>\n",
       "    </tr>\n",
       "    <tr>\n",
       "      <th>roll number</th>\n",
       "      <th></th>\n",
       "      <th></th>\n",
       "      <th></th>\n",
       "      <th></th>\n",
       "      <th></th>\n",
       "      <th></th>\n",
       "    </tr>\n",
       "  </thead>\n",
       "  <tbody>\n",
       "    <tr>\n",
       "      <th>1</th>\n",
       "      <td>1</td>\n",
       "      <td>1</td>\n",
       "      <td>0</td>\n",
       "      <td>1</td>\n",
       "      <td>0</td>\n",
       "      <td>0</td>\n",
       "    </tr>\n",
       "    <tr>\n",
       "      <th>2</th>\n",
       "      <td>0</td>\n",
       "      <td>0</td>\n",
       "      <td>0</td>\n",
       "      <td>1</td>\n",
       "      <td>1</td>\n",
       "      <td>1</td>\n",
       "    </tr>\n",
       "    <tr>\n",
       "      <th>3</th>\n",
       "      <td>1</td>\n",
       "      <td>0</td>\n",
       "      <td>1</td>\n",
       "      <td>0</td>\n",
       "      <td>0</td>\n",
       "      <td>1</td>\n",
       "    </tr>\n",
       "    <tr>\n",
       "      <th>4</th>\n",
       "      <td>1</td>\n",
       "      <td>1</td>\n",
       "      <td>1</td>\n",
       "      <td>0</td>\n",
       "      <td>0</td>\n",
       "      <td>0</td>\n",
       "    </tr>\n",
       "    <tr>\n",
       "      <th>5</th>\n",
       "      <td>0</td>\n",
       "      <td>0</td>\n",
       "      <td>0</td>\n",
       "      <td>0</td>\n",
       "      <td>0</td>\n",
       "      <td>3</td>\n",
       "    </tr>\n",
       "  </tbody>\n",
       "</table>\n",
       "</div>"
      ],
      "text/plain": [
       "             1  2  3  4  5  6\n",
       "roll number                  \n",
       "1            1  1  0  1  0  0\n",
       "2            0  0  0  1  1  1\n",
       "3            1  0  1  0  0  1\n",
       "4            1  1  1  0  0  0\n",
       "5            0  0  0  0  0  3"
      ]
     },
     "execution_count": 10,
     "metadata": {},
     "output_type": "execute_result"
    }
   ],
   "source": [
    "myanalyze.face_counts()"
   ]
  }
 ],
 "metadata": {
  "kernelspec": {
   "display_name": "Python 3 (ipykernel)",
   "language": "python",
   "name": "python3"
  },
  "language_info": {
   "codemirror_mode": {
    "name": "ipython",
    "version": 3
   },
   "file_extension": ".py",
   "mimetype": "text/x-python",
   "name": "python",
   "nbconvert_exporter": "python",
   "pygments_lexer": "ipython3",
   "version": "3.11.4"
  }
 },
 "nbformat": 4,
 "nbformat_minor": 5
}
